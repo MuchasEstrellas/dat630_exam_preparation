{
 "cells": [
  {
   "cell_type": "markdown",
   "metadata": {},
   "source": [
    "# Info Gain Calculator"
   ]
  },
  {
   "cell_type": "code",
   "execution_count": 8,
   "metadata": {
    "collapsed": true
   },
   "outputs": [],
   "source": [
    "from collections import Counter\n",
    "import math\n",
    "import pprint\n",
    "from statistics import median"
   ]
  },
  {
   "cell_type": "markdown",
   "metadata": {
    "collapsed": true
   },
   "source": [
    "Functions to calculate the info gain"
   ]
  },
  {
   "cell_type": "code",
   "execution_count": 9,
   "metadata": {
    "collapsed": true
   },
   "outputs": [],
   "source": [
    "\n",
    "def is_number(s):\n",
    "    try:\n",
    "        complex(s) # for int, long, float and complex\n",
    "    except ValueError:\n",
    "        return False\n",
    "\n",
    "    return True\n",
    "    \n",
    "def entropy(records):\n",
    "    count = Counter([x[IDX_TARGET] for x in records])\n",
    "    return -1*sum([(freq / len(records)) * math.log(freq / len(records), 2) for freq in count.values()])\n",
    "\n",
    "def information_gain(split_cond, records):\n",
    "    p_records = len(records)\n",
    "    p_entropy = entropy(records)\n",
    "    key = list(split_cond.items())[0][0]\n",
    "\n",
    "    conditions = list(split_cond.items())[0][1]\n",
    "    idx = ATTRS.index(key)\n",
    "    \n",
    "    val_type = \"cat\"\n",
    "    if is_number(records[0][idx]):\n",
    "        val_type = \"num\"\n",
    "        \n",
    "    \n",
    "    records_list=[]\n",
    "    if val_type == \"cat\" :\n",
    "        for cond in conditions :\n",
    "            partial_list =[]\n",
    "            for record in records :\n",
    "                if record[idx] in cond :\n",
    "                    partial_list.append(record)\n",
    "            records_list.append(partial_list)\n",
    "    else :\n",
    "        cond = float(conditions[0][0])\n",
    "        partial_list =[]\n",
    "        for record in records :\n",
    "            if record[idx] <= cond :\n",
    "                partial_list.append(record)\n",
    "        records_list.append(partial_list)\n",
    "        partial_list =[]\n",
    "        for record in records :\n",
    "            if record[idx] > cond :\n",
    "                partial_list.append(record)\n",
    "        records_list.append(partial_list)\n",
    "        \n",
    "    each_sum = 0\n",
    "    for partial_records in records_list :\n",
    "        print(\"Splits\")\n",
    "        pprint.pprint(partial_records)\n",
    "        entropy_vj = entropy(partial_records)\n",
    "        each_sum += (len(partial_records)/p_records)*entropy_vj\n",
    "    infogain = p_entropy - each_sum\n",
    "    print(\"Info Gain : \"+str(infogain))\n",
    "    print(\"\\n\")\n",
    "    return infogain"
   ]
  },
  {
   "cell_type": "markdown",
   "metadata": {},
   "source": [
    "Need to set the table, based on the problem.\n",
    "Numeric data will be integer or float.\n",
    "Other data should be string!"
   ]
  },
  {
   "cell_type": "markdown",
   "metadata": {},
   "source": [
    "# Usage"
   ]
  },
  {
   "cell_type": "markdown",
   "metadata": {},
   "source": [
    "# Trial exam case"
   ]
  },
  {
   "cell_type": "markdown",
   "metadata": {},
   "source": [
    "<img src=\"images/decision_tree_exam.png\"/>"
   ]
  },
  {
   "cell_type": "code",
   "execution_count": 10,
   "metadata": {
    "collapsed": true
   },
   "outputs": [],
   "source": [
    "#Trial exam case\n",
    "\n",
    "ATTRS = [\"Gender\",\"Size\",\"Color\",\"Class\"]\n",
    "RECORDS = [\n",
    "        [\"M\",\"S\" ,\"red\"  ,\"No\"],\n",
    "        [\"M\",\"L\" ,\"blue\" ,\"Yes\"],\n",
    "        [\"F\",\"M\" ,\"red\"  ,\"Yes\"],\n",
    "        [\"F\",\"S\" ,\"blue\" ,\"No\"],\n",
    "        [\"M\",\"XL\",\"blue\" ,\"Yes\"],\n",
    "        [\"F\",\"S\" ,\"green\",\"No\"],\n",
    "        [\"F\",\"XL\",\"red\"  ,\"No\"],\n",
    "        [\"M\",\"XL\",\"green\",\"Yes\"],\n",
    "        [\"F\",\"L\" ,\"green\",\"No\"],\n",
    "        [\"M\",\"XL\",\"red\"  ,\"No\"],\n",
    "]\n",
    "\n",
    "\n",
    "IDX_TARGET = len(ATTRS)-1"
   ]
  },
  {
   "cell_type": "markdown",
   "metadata": {},
   "source": [
    "split_cond is the most important part.\n",
    "the rule is\n",
    "{\"Attribute\":[[coditionA],[conditionB]...}\n",
    "\n",
    "but sometimes, like in the trial exam, we need to group some attribute like below.\n",
    "{\"Attribute\":[[coditionA1,coditionA2],[conditionB1,conditionB1]...}"
   ]
  },
  {
   "cell_type": "code",
   "execution_count": 11,
   "metadata": {},
   "outputs": [
    {
     "name": "stdout",
     "output_type": "stream",
     "text": [
      "Splits\n",
      "[['M', 'S', 'red', 'No'],\n",
      " ['F', 'M', 'red', 'Yes'],\n",
      " ['F', 'S', 'blue', 'No'],\n",
      " ['F', 'S', 'green', 'No']]\n",
      "Splits\n",
      "[['M', 'L', 'blue', 'Yes'],\n",
      " ['M', 'XL', 'blue', 'Yes'],\n",
      " ['F', 'XL', 'red', 'No'],\n",
      " ['M', 'XL', 'green', 'Yes'],\n",
      " ['F', 'L', 'green', 'No'],\n",
      " ['M', 'XL', 'red', 'No']]\n",
      "Info Gain : 0.0464393446710154\n",
      "\n",
      "\n"
     ]
    },
    {
     "data": {
      "text/plain": [
       "0.0464393446710154"
      ]
     },
     "execution_count": 11,
     "metadata": {},
     "output_type": "execute_result"
    }
   ],
   "source": [
    "#grouped condition case\n",
    "records = RECORDS\n",
    "split_cond = {\"Size\": [[\"S\",\"M\"],[\"L\",\"XL\"]]}\n",
    "information_gain(split_cond, records )\n",
    "\n"
   ]
  },
  {
   "cell_type": "markdown",
   "metadata": {},
   "source": [
    "This is not the tree builder, if you want to go to next step, you have to choose next data manually."
   ]
  },
  {
   "cell_type": "code",
   "execution_count": 12,
   "metadata": {},
   "outputs": [
    {
     "name": "stdout",
     "output_type": "stream",
     "text": [
      "Splits\n",
      "[['M', 'S', 'red', 'No'], ['F', 'M', 'red', 'Yes']]\n",
      "Splits\n",
      "[['F', 'S', 'blue', 'No']]\n",
      "Splits\n",
      "[['F', 'S', 'green', 'No']]\n",
      "Info Gain : 0.31127812445913283\n",
      "\n",
      "\n",
      "Splits\n",
      "[['M', 'S', 'red', 'No']]\n",
      "Splits\n",
      "[['F', 'M', 'red', 'Yes'], ['F', 'S', 'blue', 'No'], ['F', 'S', 'green', 'No']]\n",
      "Info Gain : 0.12255624891826566\n",
      "\n",
      "\n",
      "Splits\n",
      "[['F', 'XL', 'red', 'No'], ['M', 'XL', 'red', 'No']]\n",
      "Splits\n",
      "[['M', 'L', 'blue', 'Yes'], ['M', 'XL', 'blue', 'Yes']]\n",
      "Splits\n",
      "[['M', 'XL', 'green', 'Yes'], ['F', 'L', 'green', 'No']]\n",
      "Info Gain : 0.6666666666666667\n",
      "\n",
      "\n",
      "Splits\n",
      "[['M', 'L', 'blue', 'Yes'],\n",
      " ['M', 'XL', 'blue', 'Yes'],\n",
      " ['M', 'XL', 'green', 'Yes'],\n",
      " ['M', 'XL', 'red', 'No']]\n",
      "Splits\n",
      "[['F', 'XL', 'red', 'No'], ['F', 'L', 'green', 'No']]\n",
      "Info Gain : 0.4591479170272448\n",
      "\n",
      "\n"
     ]
    },
    {
     "data": {
      "text/plain": [
       "0.4591479170272448"
      ]
     },
     "execution_count": 12,
     "metadata": {},
     "output_type": "execute_result"
    }
   ],
   "source": [
    "#records from above data [S,M]\n",
    "records = [\n",
    "    ['M', 'S', 'red', 'No'],\n",
    "    ['F', 'M', 'red', 'Yes'],\n",
    "    ['F', 'S', 'blue', 'No'],\n",
    "    ['F', 'S', 'green', 'No']\n",
    "]\n",
    "split_cond = {\"Color\":[[\"red\"],[\"blue\"],[\"green\"]]}\n",
    "information_gain(split_cond, records )\n",
    "split_cond = {\"Gender\":[[\"M\"],[\"F\"]]}\n",
    "information_gain(split_cond, records )\n",
    "\n",
    "#records from above data [L,XL]\n",
    "records = [\n",
    "     ['M', 'L', 'blue', 'Yes'],\n",
    "     ['M', 'XL', 'blue', 'Yes'],\n",
    "     ['F', 'XL', 'red', 'No'],\n",
    "     ['M', 'XL', 'green', 'Yes'],\n",
    "     ['F', 'L', 'green', 'No'],\n",
    "     ['M', 'XL', 'red', 'No']\n",
    "]\n",
    "split_cond = {\"Color\":[[\"red\"],[\"blue\"],[\"green\"]]}\n",
    "information_gain(split_cond, records )\n",
    "split_cond = {\"Gender\":[[\"M\"],[\"F\"]]}\n",
    "information_gain(split_cond, records )"
   ]
  },
  {
   "cell_type": "markdown",
   "metadata": {},
   "source": [
    "# Exercise 6 case"
   ]
  },
  {
   "attachments": {},
   "cell_type": "markdown",
   "metadata": {},
   "source": [
    "<img src=\"images/decision_tree_exercise.png\"/>"
   ]
  },
  {
   "cell_type": "markdown",
   "metadata": {},
   "source": [
    "There can be some numeric data. For that case we need to make that data either int or float"
   ]
  },
  {
   "cell_type": "code",
   "execution_count": 13,
   "metadata": {
    "collapsed": true
   },
   "outputs": [],
   "source": [
    "#Exercise case\n",
    "#Temp and Humidity is numeric\n",
    "ATTRS = [\"Outlook\",\"Temp\",\"Humidity\",\"Windy\", \"Play\"]\n",
    "RECORDS = [\n",
    "    [\"sunny\",85,85,\"false\",\"No\"],\n",
    "    [\"sunny\",80,90,\"true\",\"No\"],\n",
    "    [\"overcast\",83,78,\"false\",\"Yes\"],\n",
    "    [\"rain\",70,96,\"false\",\"Yes\"],\n",
    "    [\"rain\",68,80,\"false\",\"Yes\"],\n",
    "    [\"rain\",65,70,\"true\",\"No\"],\n",
    "    [\"overcast\",64,65,\"true\",\"Yes\"],\n",
    "    [\"sunny\",72,95,\"false\",\"No\"],\n",
    "    [\"sunny\",69,70,\"false\",\"Yes\"],\n",
    "    [\"rain\",75,80,\"false\",\"Yes\"],\n",
    "    [\"sunny\",75,70,\"true\",\"Yes\"],\n",
    "    [\"overcast\",72,90,\"true\",\"Yes\"],\n",
    "    [\"overcast\",81,75,\"false\",\"Yes\"],\n",
    "    [\"rain\",71,80,\"true\",\"No\"],\n",
    "]\n",
    "\n",
    "\n",
    "IDX_TARGET = len(ATTRS)-1"
   ]
  },
  {
   "cell_type": "code",
   "execution_count": 14,
   "metadata": {},
   "outputs": [
    {
     "name": "stdout",
     "output_type": "stream",
     "text": [
      "Splits\n",
      "[['rain', 70, 96, 'false', 'Yes'],\n",
      " ['rain', 68, 80, 'false', 'Yes'],\n",
      " ['rain', 65, 70, 'true', 'No'],\n",
      " ['overcast', 64, 65, 'true', 'Yes'],\n",
      " ['sunny', 72, 95, 'false', 'No'],\n",
      " ['sunny', 69, 70, 'false', 'Yes'],\n",
      " ['rain', 75, 80, 'false', 'Yes'],\n",
      " ['sunny', 75, 70, 'true', 'Yes'],\n",
      " ['overcast', 72, 90, 'true', 'Yes'],\n",
      " ['rain', 71, 80, 'true', 'No']]\n",
      "Splits\n",
      "[['sunny', 85, 85, 'false', 'No'],\n",
      " ['sunny', 80, 90, 'true', 'No'],\n",
      " ['overcast', 83, 78, 'false', 'Yes'],\n",
      " ['overcast', 81, 75, 'false', 'Yes']]\n",
      "Info Gain : 0.0250781735058504\n",
      "\n",
      "\n",
      "Splits\n",
      "[['sunny', 85, 85, 'false', 'No'],\n",
      " ['sunny', 80, 90, 'true', 'No'],\n",
      " ['sunny', 72, 95, 'false', 'No'],\n",
      " ['sunny', 69, 70, 'false', 'Yes'],\n",
      " ['sunny', 75, 70, 'true', 'Yes']]\n",
      "Splits\n",
      "[['overcast', 83, 78, 'false', 'Yes'],\n",
      " ['overcast', 64, 65, 'true', 'Yes'],\n",
      " ['overcast', 72, 90, 'true', 'Yes'],\n",
      " ['overcast', 81, 75, 'false', 'Yes']]\n",
      "Splits\n",
      "[['rain', 70, 96, 'false', 'Yes'],\n",
      " ['rain', 68, 80, 'false', 'Yes'],\n",
      " ['rain', 65, 70, 'true', 'No'],\n",
      " ['rain', 75, 80, 'false', 'Yes'],\n",
      " ['rain', 71, 80, 'true', 'No']]\n",
      "Info Gain : 0.2467498197744391\n",
      "\n",
      "\n",
      "Splits\n",
      "[['rain', 65, 70, 'true', 'No'],\n",
      " ['overcast', 64, 65, 'true', 'Yes'],\n",
      " ['sunny', 69, 70, 'false', 'Yes'],\n",
      " ['sunny', 75, 70, 'true', 'Yes'],\n",
      " ['overcast', 81, 75, 'false', 'Yes']]\n",
      "Splits\n",
      "[['sunny', 85, 85, 'false', 'No'],\n",
      " ['sunny', 80, 90, 'true', 'No'],\n",
      " ['overcast', 83, 78, 'false', 'Yes'],\n",
      " ['rain', 70, 96, 'false', 'Yes'],\n",
      " ['rain', 68, 80, 'false', 'Yes'],\n",
      " ['sunny', 72, 95, 'false', 'No'],\n",
      " ['rain', 75, 80, 'false', 'Yes'],\n",
      " ['overcast', 72, 90, 'true', 'Yes'],\n",
      " ['rain', 71, 80, 'true', 'No']]\n",
      "Info Gain : 0.04533417202914425\n",
      "\n",
      "\n",
      "Splits\n",
      "[['sunny', 85, 85, 'false', 'No'],\n",
      " ['overcast', 83, 78, 'false', 'Yes'],\n",
      " ['rain', 70, 96, 'false', 'Yes'],\n",
      " ['rain', 68, 80, 'false', 'Yes'],\n",
      " ['sunny', 72, 95, 'false', 'No'],\n",
      " ['sunny', 69, 70, 'false', 'Yes'],\n",
      " ['rain', 75, 80, 'false', 'Yes'],\n",
      " ['overcast', 81, 75, 'false', 'Yes']]\n",
      "Splits\n",
      "[['sunny', 80, 90, 'true', 'No'],\n",
      " ['rain', 65, 70, 'true', 'No'],\n",
      " ['overcast', 64, 65, 'true', 'Yes'],\n",
      " ['sunny', 75, 70, 'true', 'Yes'],\n",
      " ['overcast', 72, 90, 'true', 'Yes'],\n",
      " ['rain', 71, 80, 'true', 'No']]\n",
      "Info Gain : 0.04812703040826927\n",
      "\n",
      "\n"
     ]
    },
    {
     "data": {
      "text/plain": [
       "0.04812703040826927"
      ]
     },
     "execution_count": 14,
     "metadata": {},
     "output_type": "execute_result"
    }
   ],
   "source": [
    "records = RECORDS\n",
    "#when we need median\n",
    "#median_val = median([x[ATTRS.index(\"Temp\")] for x in records])\n",
    "#when we can fix the numeric value.\n",
    "median_val = 75\n",
    "split_cond = {\"Temp\": [[median_val]]}\n",
    "information_gain(split_cond, records )\n",
    "\n",
    "split_cond = {\"Outlook\": [[\"sunny\"],[\"overcast\"],[\"rain\"]]}\n",
    "information_gain(split_cond, records )\n",
    "\n",
    "median_val = 75\n",
    "split_cond = {\"Humidity\": [[median_val]]}\n",
    "information_gain(split_cond, records )\n",
    "\n",
    "\n",
    "split_cond = {\"Windy\": [[\"false\"],[\"true\"]]}\n",
    "information_gain(split_cond, records )\n"
   ]
  }
 ],
 "metadata": {
  "kernelspec": {
   "display_name": "Python 3",
   "language": "python",
   "name": "python3"
  },
  "language_info": {
   "codemirror_mode": {
    "name": "ipython",
    "version": 3
   },
   "file_extension": ".py",
   "mimetype": "text/x-python",
   "name": "python",
   "nbconvert_exporter": "python",
   "pygments_lexer": "ipython3",
   "version": "3.6.3"
  }
 },
 "nbformat": 4,
 "nbformat_minor": 2
}
