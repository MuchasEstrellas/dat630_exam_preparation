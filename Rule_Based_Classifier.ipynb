{
 "cells": [
  {
   "cell_type": "markdown",
   "metadata": {
    "collapsed": true
   },
   "source": [
    "# Rule Based Classifier"
   ]
  },
  {
   "cell_type": "code",
   "execution_count": 39,
   "metadata": {
    "collapsed": true
   },
   "outputs": [],
   "source": [
    "import numpy as np\n",
    "import re"
   ]
  },
  {
   "cell_type": "code",
   "execution_count": 40,
   "metadata": {},
   "outputs": [],
   "source": [
    "\n",
    "def is_number(s):\n",
    "    try:\n",
    "        complex(s) # for int, long, float and complex\n",
    "    except ValueError:\n",
    "        return False\n",
    "\n",
    "    return True\n",
    "def extract_operator(q,operands):\n",
    "    for operand in operands:\n",
    "        q=q.replace(operand,\"\")\n",
    "    return q\n",
    "\n",
    "def numericalize_table(records):\n",
    "    records = records.copy()\n",
    "    str_to_num ={}\n",
    "    number=0\n",
    "    for i in range(len(records[0])):\n",
    "        for ele in set(records[:,i]):\n",
    "            if not is_number(ele):\n",
    "                str_to_num[ele] = number\n",
    "                number+=1\n",
    "\n",
    "    for i,row in enumerate(records) :\n",
    "        for j, col in enumerate(row) :\n",
    "            if not is_number(col):\n",
    "                records[i][j] = int(str_to_num[col])\n",
    "    records=records.astype(float)\n",
    "    \n",
    "    return records,str_to_num\n",
    "\n",
    "\n",
    "def select_row(col_idx, col_val,operator,records):\n",
    "    selected_records=None\n",
    "    if operator == \"==\":\n",
    "        selected_records = records[records[:,col_idx] == col_val]\n",
    "    elif operator == \"<=\":\n",
    "        selected_records = records[records[:,col_idx] <= col_val]\n",
    "    elif operator == \"<\":\n",
    "        selected_records = records[records[:,col_idx] < col_val]\n",
    "    elif operator == \">\":\n",
    "        selected_records = records[records[:,col_idx] > col_val]\n",
    "    elif operator == \">=\":\n",
    "        selected_records = records[records[:,col_idx] >= col_val]\n",
    "    return selected_records\n",
    "\n",
    "def organize_query(q,cols,str_to_num):\n",
    "    q= q.replace(\" \", \"\")\n",
    "    operands = re.split(\"[\\=\\<\\<=\\>\\>=]+\", q)\n",
    "    operator = extract_operator(q,operands)\n",
    "    col_idx = cols.index(operands[0])\n",
    "    col_val = operands[1]\n",
    "    if not is_number(col_val):\n",
    "        col_val = str_to_num[col_val]\n",
    "    col_val = float(col_val)\n",
    "    return col_idx,col_val,operator\n",
    "\n",
    "def rule_base_classifier(cols,records,query):\n",
    "    records = records.copy()\n",
    "    str_to_num = {}\n",
    "    number = 0\n",
    "\n",
    "    records, str_to_num =numericalize_table(records)\n",
    "\n",
    "    for_coverage = records.copy()\n",
    "    for_accuracy = records.copy()\n",
    "    \n",
    "    for q in query[:-1]:\n",
    "        col_idx, col_val, operator = organize_query(q,cols,str_to_num)\n",
    "        for_coverage = select_row(organize_query(q,cols,str_to_num),for_coverage)\n",
    "        \n",
    "    for q in query:\n",
    "        col_idx, col_val, operator = organize_query(q,cols,str_to_num)\n",
    "        for_accuracy = select_row(col_idx, col_val,operator,for_accuracy)\n",
    "    \n",
    "    \n",
    "    #print(for_coverage)\n",
    "    #print(for_accuracy)\n",
    "    print(query)\n",
    "    print(\"Coverage = {}/{} = {}\".format(len(for_coverage),len(records),round(len(for_coverage)/len(records),3)))       \n",
    "    if len(for_coverage) :\n",
    "        print(\"Accuracy = {}/{} = {}\".format(len(for_accuracy),len(for_coverage),round(len(for_accuracy)/len(for_coverage),3)))\n",
    "    else :\n",
    "        print(\"Accuracy = 0/0\")\n",
    "    print(\"\\n\")\n",
    "            "
   ]
  },
  {
   "cell_type": "markdown",
   "metadata": {},
   "source": [
    "# Usage"
   ]
  },
  {
   "cell_type": "markdown",
   "metadata": {},
   "source": [
    "# Exercise-9 Case"
   ]
  },
  {
   "cell_type": "markdown",
   "metadata": {},
   "source": [
    "<img src=\"images/rule_based.png\" />"
   ]
  },
  {
   "cell_type": "code",
   "execution_count": 41,
   "metadata": {
    "collapsed": true
   },
   "outputs": [],
   "source": [
    "\n",
    "Cols = [\"Outlook\",\"Temp\",\"Humidity\",\"Windy\", \"Play\"]\n",
    "Records = np.array([\n",
    "    [\"sunny\",85,85,\"false\",\"No\"],\n",
    "    [\"sunny\",80,90,\"true\",\"No\"],\n",
    "    [\"overcast\",83,78,\"false\",\"Yes\"],\n",
    "    [\"rain\",70,96,\"false\",\"Yes\"],\n",
    "    [\"rain\",68,80,\"false\",\"Yes\"],\n",
    "    [\"rain\",65,70,\"true\",\"No\"],\n",
    "    [\"overcast\",64,65,\"true\",\"Yes\"],\n",
    "    [\"sunny\",72,95,\"false\",\"No\"],\n",
    "    [\"sunny\",69,70,\"false\",\"Yes\"],\n",
    "    [\"rain\",75,80,\"false\",\"Yes\"],\n",
    "    [\"sunny\",75,70,\"true\",\"Yes\"],\n",
    "    [\"overcast\",72,90,\"true\",\"Yes\"],\n",
    "    [\"overcast\",81,75,\"false\",\"Yes\"],\n",
    "    [\"rain\",71,80,\"true\",\"No\"],\n",
    "])\n",
    "\n",
    "\n"
   ]
  },
  {
   "cell_type": "markdown",
   "metadata": {},
   "source": [
    "<img src=\"images/rule_based_sol.png\" />"
   ]
  },
  {
   "cell_type": "code",
   "execution_count": 42,
   "metadata": {},
   "outputs": [
    {
     "ename": "TypeError",
     "evalue": "select_row() missing 2 required positional arguments: 'operator' and 'records'",
     "output_type": "error",
     "traceback": [
      "\u001b[0;31m---------------------------------------------------------------------------\u001b[0m",
      "\u001b[0;31mTypeError\u001b[0m                                 Traceback (most recent call last)",
      "\u001b[0;32m<ipython-input-42-a79f8008ff48>\u001b[0m in \u001b[0;36m<module>\u001b[0;34m()\u001b[0m\n\u001b[1;32m     11\u001b[0m \u001b[0;34m\u001b[0m\u001b[0m\n\u001b[1;32m     12\u001b[0m \u001b[0mQuery\u001b[0m \u001b[0;34m=\u001b[0m \u001b[0;34m[\u001b[0m\u001b[0;34m\"Outlook==sunny\"\u001b[0m\u001b[0;34m,\u001b[0m\u001b[0;34m\"Humidity<=75\"\u001b[0m\u001b[0;34m,\u001b[0m\u001b[0;34m\"Play==Yes\"\u001b[0m\u001b[0;34m]\u001b[0m\u001b[0;34m\u001b[0m\u001b[0m\n\u001b[0;32m---> 13\u001b[0;31m \u001b[0mrule_base_classifier\u001b[0m\u001b[0;34m(\u001b[0m\u001b[0mCols\u001b[0m\u001b[0;34m,\u001b[0m\u001b[0mRecords\u001b[0m\u001b[0;34m,\u001b[0m\u001b[0mQuery\u001b[0m\u001b[0;34m)\u001b[0m\u001b[0;34m\u001b[0m\u001b[0m\n\u001b[0m\u001b[1;32m     14\u001b[0m \u001b[0;34m\u001b[0m\u001b[0m\n\u001b[1;32m     15\u001b[0m \u001b[0mQuery\u001b[0m \u001b[0;34m=\u001b[0m \u001b[0;34m[\u001b[0m\u001b[0;34m\"Outlook==sunny\"\u001b[0m\u001b[0;34m,\u001b[0m\u001b[0;34m\"Humidity>75\"\u001b[0m\u001b[0;34m,\u001b[0m\u001b[0;34m\"Play==No\"\u001b[0m\u001b[0;34m]\u001b[0m\u001b[0;34m\u001b[0m\u001b[0m\n",
      "\u001b[0;32m<ipython-input-40-667990a99525>\u001b[0m in \u001b[0;36mrule_base_classifier\u001b[0;34m(cols, records, query)\u001b[0m\n\u001b[1;32m     68\u001b[0m     \u001b[0;32mfor\u001b[0m \u001b[0mq\u001b[0m \u001b[0;32min\u001b[0m \u001b[0mquery\u001b[0m\u001b[0;34m[\u001b[0m\u001b[0;34m:\u001b[0m\u001b[0;34m-\u001b[0m\u001b[0;36m1\u001b[0m\u001b[0;34m]\u001b[0m\u001b[0;34m:\u001b[0m\u001b[0;34m\u001b[0m\u001b[0m\n\u001b[1;32m     69\u001b[0m         \u001b[0mcol_idx\u001b[0m\u001b[0;34m,\u001b[0m \u001b[0mcol_val\u001b[0m\u001b[0;34m,\u001b[0m \u001b[0moperator\u001b[0m \u001b[0;34m=\u001b[0m \u001b[0morganize_query\u001b[0m\u001b[0;34m(\u001b[0m\u001b[0mq\u001b[0m\u001b[0;34m,\u001b[0m\u001b[0mcols\u001b[0m\u001b[0;34m,\u001b[0m\u001b[0mstr_to_num\u001b[0m\u001b[0;34m)\u001b[0m\u001b[0;34m\u001b[0m\u001b[0m\n\u001b[0;32m---> 70\u001b[0;31m         \u001b[0mfor_coverage\u001b[0m \u001b[0;34m=\u001b[0m \u001b[0mselect_row\u001b[0m\u001b[0;34m(\u001b[0m\u001b[0morganize_query\u001b[0m\u001b[0;34m(\u001b[0m\u001b[0mq\u001b[0m\u001b[0;34m,\u001b[0m\u001b[0mcols\u001b[0m\u001b[0;34m,\u001b[0m\u001b[0mstr_to_num\u001b[0m\u001b[0;34m)\u001b[0m\u001b[0;34m,\u001b[0m\u001b[0mfor_coverage\u001b[0m\u001b[0;34m)\u001b[0m\u001b[0;34m\u001b[0m\u001b[0m\n\u001b[0m\u001b[1;32m     71\u001b[0m \u001b[0;34m\u001b[0m\u001b[0m\n\u001b[1;32m     72\u001b[0m     \u001b[0;32mfor\u001b[0m \u001b[0mq\u001b[0m \u001b[0;32min\u001b[0m \u001b[0mquery\u001b[0m\u001b[0;34m:\u001b[0m\u001b[0;34m\u001b[0m\u001b[0m\n",
      "\u001b[0;31mTypeError\u001b[0m: select_row() missing 2 required positional arguments: 'operator' and 'records'"
     ]
    }
   ],
   "source": [
    "#important notice\n",
    "#case sensitive\n",
    "\n",
    "#table's r4 and r5 seem wrong\n",
    "#for r4 there should be three records\n",
    "#[\"rain\",70,96,\"false\",\"Yes\"],\n",
    "#[\"rain\",68,80,\"false\",\"Yes\"],\n",
    "#[\"rain\",75,80,\"false\",\"Yes\"],\n",
    "#for r5 none\n",
    "\n",
    "\n",
    "Query = [\"Outlook==sunny\",\"Humidity<=75\",\"Play==Yes\"]\n",
    "rule_base_classifier(Cols,Records,Query)\n",
    "\n",
    "Query = [\"Outlook==sunny\",\"Humidity>75\",\"Play==No\"]\n",
    "rule_base_classifier(Cols,Records,Query)\n",
    "\n",
    "Query = [\"Outlook==overcast\",\"Play==Yes\"]\n",
    "rule_base_classifier(Cols,Records,Query)\n",
    "\n",
    "Query = [\"Outlook==rain\",\"Windy==false\",\"Temp<=75\",\"Play==Yes\"]\n",
    "rule_base_classifier(Cols,Records,Query)\n",
    "\n",
    "Query = [\"Outlook==rain\",\"Windy==false\",\"Temp>75\",\"Play==No\"]\n",
    "rule_base_classifier(Cols,Records,Query)\n",
    "\n",
    "Query = [\"Outlook==rain\",\"Windy==true\",\"Play==No\"]\n",
    "rule_base_classifier(Cols,Records,Query)\n"
   ]
  },
  {
   "cell_type": "markdown",
   "metadata": {},
   "source": [
    "# Trial Exam Case"
   ]
  },
  {
   "cell_type": "markdown",
   "metadata": {},
   "source": [
    "<img src=\"images/rule_based_exam.png\" />"
   ]
  },
  {
   "cell_type": "code",
   "execution_count": null,
   "metadata": {},
   "outputs": [],
   "source": [
    "\n",
    "Cols = [\"Age\",\"Income\",\"Gender\",\"Class\"]\n",
    "Records = np.array([\n",
    "    [22,20,\"male\",\"Yes\"],\n",
    "    [33,70,\"female\",\"No\"],\n",
    "    [42,100,\"male\",\"Yes\"],\n",
    "    [28,75,\"male\",\"Yes\"],\n",
    "    [31,90,\"female\",\"No\"],\n",
    "    [17,5,\"male\",\"No\"],\n",
    "    [54,120,\"female\",\"No\"],\n",
    "    [40,200,\"female\",\"Yes\"],\n",
    "    [25,60,\"male\",\"Yes\"],\n",
    "    [23,55,\"male\",\"No\"],\n",
    "])\n",
    "\n",
    "Query = [\"Age<=40\",\"Gender==male\",\"Class==Yes\"]\n",
    "rule_base_classifier(Cols,Records,Query)\n",
    "\n"
   ]
  },
  {
   "cell_type": "code",
   "execution_count": null,
   "metadata": {
    "collapsed": true
   },
   "outputs": [],
   "source": []
  }
 ],
 "metadata": {
  "kernelspec": {
   "display_name": "Python 3",
   "language": "python",
   "name": "python3"
  },
  "language_info": {
   "codemirror_mode": {
    "name": "ipython",
    "version": 3
   },
   "file_extension": ".py",
   "mimetype": "text/x-python",
   "name": "python",
   "nbconvert_exporter": "python",
   "pygments_lexer": "ipython3",
   "version": "3.6.3"
  }
 },
 "nbformat": 4,
 "nbformat_minor": 2
}
