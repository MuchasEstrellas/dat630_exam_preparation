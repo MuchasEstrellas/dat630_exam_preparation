{
 "cells": [
  {
   "cell_type": "markdown",
   "metadata": {},
   "source": [
    "# Min Hashing"
   ]
  },
  {
   "cell_type": "code",
   "execution_count": 170,
   "metadata": {
    "collapsed": true
   },
   "outputs": [],
   "source": [
    "import numpy as np\n",
    "import math"
   ]
  },
  {
   "cell_type": "code",
   "execution_count": 171,
   "metadata": {},
   "outputs": [],
   "source": [
    "def calculate_hash(mtx,hash_functions):\n",
    "    hash_mtx = np.zeros((len(mtx),len(hash_functions)+1))\n",
    "    for i in range(len(mtx)):\n",
    "        hash_mtx[i][0] = i\n",
    "        for j,hash_f in enumerate(hash_functions):\n",
    "            hash_mtx[i][j+1]=hash_f(mtx.item((i, 0)))\n",
    "\n",
    "    return(hash_mtx)\n",
    "    \n",
    "def compute_minhash(mtx,hash_mtx):\n",
    "    min_hash_mtx = np.ones((hash_mtx.shape[1]-1,mtx.shape[1]))\n",
    "    min_hash_mtx=min_hash_mtx*float(math.inf)\n",
    "\n",
    "    for i in range(mtx.shape[0]):                \n",
    "        print(\"ROW \"+str(i)+\" #Ignore first column\")\n",
    "        for j,val in enumerate(mtx[i].tolist()[0]):\n",
    "            if j!=0 and val!=0:\n",
    "                min_hash_mtx[:,j]=np.minimum(min_hash_mtx[:,j],hash_mtx[i,1:])\n",
    "\n",
    "        print(min_hash_mtx)"
   ]
  },
  {
   "cell_type": "markdown",
   "metadata": {},
   "source": [
    "<img src=\"images/minhashing.png\"/>"
   ]
  },
  {
   "cell_type": "code",
   "execution_count": 172,
   "metadata": {},
   "outputs": [
    {
     "name": "stdout",
     "output_type": "stream",
     "text": [
      "ROW 0 #Ignore first column\n",
      "[[ inf  inf   1.  inf   1.]\n",
      " [ inf  inf   2.  inf   2.]\n",
      " [ inf  inf   2.  inf   2.]\n",
      " [ inf  inf   3.  inf   3.]]\n",
      "ROW 1 #Ignore first column\n",
      "[[ inf  inf   1.  inf   1.]\n",
      " [ inf  inf   2.  inf   2.]\n",
      " [ inf  inf   1.  inf   2.]\n",
      " [ inf  inf   2.  inf   3.]]\n",
      "ROW 2 #Ignore first column\n",
      "[[ inf   5.   1.  inf   1.]\n",
      " [ inf   2.   2.  inf   2.]\n",
      " [ inf   0.   1.  inf   0.]\n",
      " [ inf   1.   2.  inf   1.]]\n",
      "ROW 3 #Ignore first column\n",
      "[[ inf   5.   1.   1.   1.]\n",
      " [ inf   2.   2.   5.   2.]\n",
      " [ inf   0.   1.   5.   0.]\n",
      " [ inf   1.   2.   0.   1.]]\n",
      "ROW 4 #Ignore first column\n",
      "[[ inf   5.   1.   1.   1.]\n",
      " [ inf   2.   2.   2.   2.]\n",
      " [ inf   0.   1.   4.   0.]\n",
      " [ inf   1.   2.   0.   1.]]\n",
      "ROW 5 #Ignore first column\n",
      "[[ inf   5.   1.   1.   1.]\n",
      " [ inf   2.   2.   2.   2.]\n",
      " [ inf   0.   1.   4.   0.]\n",
      " [ inf   1.   2.   0.   1.]]\n"
     ]
    }
   ],
   "source": [
    "\n",
    "#first column is the row number\n",
    "mtx = np.matrix([\n",
    "    [0,0,1,0,1],\n",
    "    [1,0,1,0,0],\n",
    "    [2,1,0,0,1],\n",
    "    [3,0,0,1,0],\n",
    "    [4,0,0,1,1],\n",
    "    [5,1,0,0,0],\n",
    "])\n",
    "\n",
    "def h1(x):\n",
    "    return (2*x+1)%6\n",
    "def h2(x):\n",
    "    return (3*x+2)%6\n",
    "def h3(x):\n",
    "    return (5*x+2)%6\n",
    "\n",
    "hash_functions = [h1,h2,h3]\n",
    "hash_mtx = calculate_hash(mtx,hash_functions)\n",
    "compute_minhash(mtx,hash_mtx)\n"
   ]
  },
  {
   "cell_type": "code",
   "execution_count": null,
   "metadata": {
    "collapsed": true
   },
   "outputs": [],
   "source": []
  }
 ],
 "metadata": {
  "kernelspec": {
   "display_name": "Python 3",
   "language": "python",
   "name": "python3"
  },
  "language_info": {
   "codemirror_mode": {
    "name": "ipython",
    "version": 3
   },
   "file_extension": ".py",
   "mimetype": "text/x-python",
   "name": "python",
   "nbconvert_exporter": "python",
   "pygments_lexer": "ipython3",
   "version": "3.6.3"
  }
 },
 "nbformat": 4,
 "nbformat_minor": 2
}
