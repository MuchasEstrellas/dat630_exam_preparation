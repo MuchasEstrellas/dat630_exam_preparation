{
 "cells": [
  {
   "cell_type": "markdown",
   "metadata": {},
   "source": [
    "# Summary Statistics"
   ]
  },
  {
   "cell_type": "code",
   "execution_count": 2,
   "metadata": {
    "collapsed": true
   },
   "outputs": [],
   "source": [
    "import numpy as np\n",
    "import pandas as pd"
   ]
  },
  {
   "cell_type": "code",
   "execution_count": 3,
   "metadata": {
    "collapsed": true
   },
   "outputs": [],
   "source": [
    "def percentile_in_list(a, percent):\n",
    "    a=np.sort(a)\n",
    "    print(\"Percentile\")\n",
    "    print(\"{}% value is {}\".format(percent, np.percentile(a, percent)))\n",
    "    val = len(a[np.where( a <np.percentile(a, percent))])\n",
    "    print(\"In the list {}th element is {}\".format(percent, a[val]))\n",
    "    return val\n",
    "\n",
    "def mean(a):\n",
    "    return (np.mean(a))\n",
    "def median(a):\n",
    "    return (np.median(a))\n",
    "def trimmed_mean(a,p):\n",
    "    a=np.sort(a)\n",
    "    k = int(round(len(a)*(float(p)/100)/2))\n",
    "    return (np.mean(a[k:len(a)-k]))\n",
    "\n",
    "def Range(a):\n",
    "    return (max(a)-min(a))\n",
    "#m\n",
    "def variance(a):\n",
    "    return (np.var(a,ddof=1))\n",
    "\n",
    "# m-1\n",
    "def variance_p(a):\n",
    "    return (np.var(a,ddof=0))\n",
    "\n",
    "def standard_devaition(a):\n",
    "    return np.sqrt(variance(a))\n",
    "\n",
    "def AAD(x):\n",
    "    return(np.sum(abs(x-mean(x)))/len(x))\n",
    "\n",
    "def MAD(x):\n",
    "    return np.median(abs(x-mean(x)))\n",
    "def MAD2(x):\n",
    "    return np.median(abs(x-median(x)))\n",
    "\n",
    "#these functions can give you different values.\n",
    "#because there are many types of interpolation.\n",
    "def Q3(x):\n",
    "    return np.percentile(x, 75)\n",
    "def Q1(x):\n",
    "    return np.percentile(x, 25)\n",
    "def IQR(x):\n",
    "    return Q3(x)-Q1(x)\n",
    "\n",
    "\n",
    "def summary(list_of_list):\n",
    "    data = []\n",
    "    col = []    \n",
    "    row ={\"MEAN\":[], \"VAR\":[], \"VARP\":[], \"STDEV\":[], \"AAD\":[], \"MAD'\":[], \"MAD\":[], \n",
    "          \"MIN\":[], \"MAX\":[], \"R\":[], \"Q3\":[], \"Q1\":[], \"IQR\":[]}\n",
    "    row_func ={\"MEAN\":mean, \"VAR\":variance, \"VARP\":variance_p, \"STDEV\":standard_devaition, \n",
    "               \"AAD\":AAD, \"MAD'\":MAD2, \"MAD\":MAD, \"MIN\":min, \"MAX\":max, \"R\":Range, \"Q3\":Q3, \"Q1\":Q1, \"IQR\":IQR}\n",
    "\n",
    "    \n",
    "    for i, li in enumerate(list_of_list) :\n",
    "        col.append(\"data\"+str(i)) \n",
    "        for key, r in row.items():\n",
    "            r.append(round(row_func[key](li),2))\n",
    "    for key, value in row.items():\n",
    "        data.append([key,value])\n",
    "\n",
    "    return pd.DataFrame.from_items(data,\n",
    "                      orient='index', columns=col)"
   ]
  },
  {
   "cell_type": "markdown",
   "metadata": {},
   "source": [
    "# Usage"
   ]
  },
  {
   "cell_type": "markdown",
   "metadata": {},
   "source": [
    "<img src=\"images/percentile.png\" />"
   ]
  },
  {
   "cell_type": "code",
   "execution_count": 4,
   "metadata": {},
   "outputs": [
    {
     "name": "stdout",
     "output_type": "stream",
     "text": [
      "Percentile\n",
      "80% value is 7.2\n",
      "In the list 80th element is 8\n"
     ]
    },
    {
     "data": {
      "text/plain": [
       "8"
      ]
     },
     "execution_count": 4,
     "metadata": {},
     "output_type": "execute_result"
    }
   ],
   "source": [
    "a = np.array([8, 6, 3, 7, 3, 4, 1, 6, 8, 5])\n",
    "percentile_in_list(a, 80)"
   ]
  },
  {
   "cell_type": "markdown",
   "metadata": {},
   "source": [
    "<img src=\"images/mean_median.png\"/>"
   ]
  },
  {
   "cell_type": "code",
   "execution_count": 5,
   "metadata": {},
   "outputs": [
    {
     "name": "stdout",
     "output_type": "stream",
     "text": [
      "mean :17.5\n",
      "median :3.5\n",
      "trimmed mean :3.5\n"
     ]
    }
   ],
   "source": [
    "a = np.array([1, 2, 3, 4, 5, 90])\n",
    "print(\"mean :\" +str(mean(a)))\n",
    "print(\"median :\" +str(median(a)))\n",
    "print(\"trimmed mean :\"+str(trimmed_mean(a,40)))"
   ]
  },
  {
   "cell_type": "markdown",
   "metadata": {},
   "source": [
    "<img src=\"images/range_variance.png\"/>"
   ]
  },
  {
   "cell_type": "code",
   "execution_count": 6,
   "metadata": {},
   "outputs": [
    {
     "name": "stdout",
     "output_type": "stream",
     "text": [
      "Range : 44\n",
      "Variance : 289.566666667\n",
      "Mean : 29.7\n",
      "STD : 17.0166585047\n"
     ]
    }
   ],
   "source": [
    "a = np.array([3,24,30,47,43,7,47,13,44,39])\n",
    "print(\"Range : \"+ str(Range(a)))\n",
    "print(\"Variance : \"+ str(variance(a)))\n",
    "print(\"Mean : \"+ str(mean(a)))\n",
    "print(\"STD : \"+ str(standard_devaition(a)))"
   ]
  },
  {
   "cell_type": "markdown",
   "metadata": {},
   "source": [
    "<img src=\"images/summary.png\"/>"
   ]
  },
  {
   "cell_type": "code",
   "execution_count": 7,
   "metadata": {},
   "outputs": [
    {
     "data": {
      "text/html": [
       "<div>\n",
       "<style>\n",
       "    .dataframe thead tr:only-child th {\n",
       "        text-align: right;\n",
       "    }\n",
       "\n",
       "    .dataframe thead th {\n",
       "        text-align: left;\n",
       "    }\n",
       "\n",
       "    .dataframe tbody tr th {\n",
       "        vertical-align: top;\n",
       "    }\n",
       "</style>\n",
       "<table border=\"1\" class=\"dataframe\">\n",
       "  <thead>\n",
       "    <tr style=\"text-align: right;\">\n",
       "      <th></th>\n",
       "      <th>data0</th>\n",
       "      <th>data1</th>\n",
       "    </tr>\n",
       "  </thead>\n",
       "  <tbody>\n",
       "    <tr>\n",
       "      <th>MEAN</th>\n",
       "      <td>2.50</td>\n",
       "      <td>8.25</td>\n",
       "    </tr>\n",
       "    <tr>\n",
       "      <th>VAR</th>\n",
       "      <td>4.86</td>\n",
       "      <td>289.07</td>\n",
       "    </tr>\n",
       "    <tr>\n",
       "      <th>VARP</th>\n",
       "      <td>4.25</td>\n",
       "      <td>252.94</td>\n",
       "    </tr>\n",
       "    <tr>\n",
       "      <th>STDEV</th>\n",
       "      <td>2.20</td>\n",
       "      <td>17.00</td>\n",
       "    </tr>\n",
       "    <tr>\n",
       "      <th>AAD</th>\n",
       "      <td>1.75</td>\n",
       "      <td>10.44</td>\n",
       "    </tr>\n",
       "    <tr>\n",
       "      <th>MAD'</th>\n",
       "      <td>2.00</td>\n",
       "      <td>2.50</td>\n",
       "    </tr>\n",
       "    <tr>\n",
       "      <th>MAD</th>\n",
       "      <td>2.00</td>\n",
       "      <td>6.25</td>\n",
       "    </tr>\n",
       "    <tr>\n",
       "      <th>MIN</th>\n",
       "      <td>-1.00</td>\n",
       "      <td>-1.00</td>\n",
       "    </tr>\n",
       "    <tr>\n",
       "      <th>MAX</th>\n",
       "      <td>5.00</td>\n",
       "      <td>50.00</td>\n",
       "    </tr>\n",
       "    <tr>\n",
       "      <th>R</th>\n",
       "      <td>6.00</td>\n",
       "      <td>51.00</td>\n",
       "    </tr>\n",
       "    <tr>\n",
       "      <th>Q3</th>\n",
       "      <td>4.25</td>\n",
       "      <td>5.00</td>\n",
       "    </tr>\n",
       "    <tr>\n",
       "      <th>Q1</th>\n",
       "      <td>1.50</td>\n",
       "      <td>1.50</td>\n",
       "    </tr>\n",
       "    <tr>\n",
       "      <th>IQR</th>\n",
       "      <td>2.75</td>\n",
       "      <td>3.50</td>\n",
       "    </tr>\n",
       "  </tbody>\n",
       "</table>\n",
       "</div>"
      ],
      "text/plain": [
       "       data0   data1\n",
       "MEAN    2.50    8.25\n",
       "VAR     4.86  289.07\n",
       "VARP    4.25  252.94\n",
       "STDEV   2.20   17.00\n",
       "AAD     1.75   10.44\n",
       "MAD'    2.00    2.50\n",
       "MAD     2.00    6.25\n",
       "MIN    -1.00   -1.00\n",
       "MAX     5.00   50.00\n",
       "R       6.00   51.00\n",
       "Q3      4.25    5.00\n",
       "Q1      1.50    1.50\n",
       "IQR     2.75    3.50"
      ]
     },
     "execution_count": 7,
     "metadata": {},
     "output_type": "execute_result"
    }
   ],
   "source": [
    "x = np.array([2,5,-1,3,4,5,0,2])\n",
    "y = np.array([2,5,-1,3,50,5,0,2])\n",
    "\n",
    "#Q3, Q1 IQR will be different. ignore them.\n",
    "summary([x,y])\n",
    "\n"
   ]
  },
  {
   "cell_type": "markdown",
   "metadata": {},
   "source": [
    "# Exercise Lecture 4"
   ]
  },
  {
   "cell_type": "markdown",
   "metadata": {},
   "source": [
    "<img src=\"images/summary_exercise.png\" />"
   ]
  },
  {
   "cell_type": "code",
   "execution_count": 8,
   "metadata": {},
   "outputs": [
    {
     "name": "stdout",
     "output_type": "stream",
     "text": [
      "Percentile\n",
      "70% value is 23.399999999999977\n",
      "In the list 70th element is 49\n",
      "Range : 50\n",
      "Median :11.0\n",
      "MEan :21.0\n",
      "Variance :441.333333333\n",
      "AAD : 17.1428571429\n"
     ]
    }
   ],
   "source": [
    "x = np.array([17,5,3,9,49,53,11])\n",
    "percentile_in_list(x,70)\n",
    "print(\"Range : \"+str(Range(x)))\n",
    "print(\"Median :\"+str(median(x)))\n",
    "print(\"MEan :\"+str(mean(x)))\n",
    "print(\"Variance :\"+str(variance(x)))\n",
    "\n",
    "\n",
    "# I think table's AAD is wrong\n",
    "print(\"AAD : \"+str(AAD(x)))\n",
    "\n"
   ]
  },
  {
   "cell_type": "code",
   "execution_count": 9,
   "metadata": {},
   "outputs": [
    {
     "data": {
      "text/html": [
       "<div>\n",
       "<style>\n",
       "    .dataframe thead tr:only-child th {\n",
       "        text-align: right;\n",
       "    }\n",
       "\n",
       "    .dataframe thead th {\n",
       "        text-align: left;\n",
       "    }\n",
       "\n",
       "    .dataframe tbody tr th {\n",
       "        vertical-align: top;\n",
       "    }\n",
       "</style>\n",
       "<table border=\"1\" class=\"dataframe\">\n",
       "  <thead>\n",
       "    <tr style=\"text-align: right;\">\n",
       "      <th></th>\n",
       "      <th>data0</th>\n",
       "    </tr>\n",
       "  </thead>\n",
       "  <tbody>\n",
       "    <tr>\n",
       "      <th>MEAN</th>\n",
       "      <td>21.00</td>\n",
       "    </tr>\n",
       "    <tr>\n",
       "      <th>VAR</th>\n",
       "      <td>441.33</td>\n",
       "    </tr>\n",
       "    <tr>\n",
       "      <th>VARP</th>\n",
       "      <td>378.29</td>\n",
       "    </tr>\n",
       "    <tr>\n",
       "      <th>STDEV</th>\n",
       "      <td>21.01</td>\n",
       "    </tr>\n",
       "    <tr>\n",
       "      <th>AAD</th>\n",
       "      <td>17.14</td>\n",
       "    </tr>\n",
       "    <tr>\n",
       "      <th>MAD'</th>\n",
       "      <td>6.00</td>\n",
       "    </tr>\n",
       "    <tr>\n",
       "      <th>MAD</th>\n",
       "      <td>16.00</td>\n",
       "    </tr>\n",
       "    <tr>\n",
       "      <th>MIN</th>\n",
       "      <td>3.00</td>\n",
       "    </tr>\n",
       "    <tr>\n",
       "      <th>MAX</th>\n",
       "      <td>53.00</td>\n",
       "    </tr>\n",
       "    <tr>\n",
       "      <th>R</th>\n",
       "      <td>50.00</td>\n",
       "    </tr>\n",
       "    <tr>\n",
       "      <th>Q3</th>\n",
       "      <td>33.00</td>\n",
       "    </tr>\n",
       "    <tr>\n",
       "      <th>Q1</th>\n",
       "      <td>7.00</td>\n",
       "    </tr>\n",
       "    <tr>\n",
       "      <th>IQR</th>\n",
       "      <td>26.00</td>\n",
       "    </tr>\n",
       "  </tbody>\n",
       "</table>\n",
       "</div>"
      ],
      "text/plain": [
       "        data0\n",
       "MEAN    21.00\n",
       "VAR    441.33\n",
       "VARP   378.29\n",
       "STDEV   21.01\n",
       "AAD     17.14\n",
       "MAD'     6.00\n",
       "MAD     16.00\n",
       "MIN      3.00\n",
       "MAX     53.00\n",
       "R       50.00\n",
       "Q3      33.00\n",
       "Q1       7.00\n",
       "IQR     26.00"
      ]
     },
     "execution_count": 9,
     "metadata": {},
     "output_type": "execute_result"
    }
   ],
   "source": [
    "x = np.array([17,5,3,9,49,53,11])\n",
    "summary([x])"
   ]
  },
  {
   "cell_type": "code",
   "execution_count": null,
   "metadata": {
    "collapsed": true
   },
   "outputs": [],
   "source": []
  }
 ],
 "metadata": {
  "kernelspec": {
   "display_name": "Python 3",
   "language": "python",
   "name": "python3"
  },
  "language_info": {
   "codemirror_mode": {
    "name": "ipython",
    "version": 3
   },
   "file_extension": ".py",
   "mimetype": "text/x-python",
   "name": "python",
   "nbconvert_exporter": "python",
   "pygments_lexer": "ipython3",
   "version": "3.6.3"
  }
 },
 "nbformat": 4,
 "nbformat_minor": 2
}
