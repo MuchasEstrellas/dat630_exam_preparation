{
 "cells": [
  {
   "cell_type": "markdown",
   "metadata": {
    "collapsed": true
   },
   "source": [
    "# Distances"
   ]
  },
  {
   "cell_type": "code",
   "execution_count": 5,
   "metadata": {
    "collapsed": true
   },
   "outputs": [],
   "source": [
    "import numpy as np"
   ]
  },
  {
   "cell_type": "code",
   "execution_count": 6,
   "metadata": {
    "collapsed": true
   },
   "outputs": [],
   "source": [
    "def MinkowskiDistance(x,y,r):\n",
    "\n",
    "    return np.power(np.sum(np.power(abs(x-y),r)),1/r)\n",
    "\n",
    "def ManhattanDistance(x,y):\n",
    "    return np.sum(abs(x-y))\n",
    "\n",
    "def EuclideanDistance(x,y):\n",
    "    return np.sqrt(np.sum(np.power(x-y,2)))\n",
    "\n",
    "def SupremumDistance(x,y):\n",
    "    return np.max(abs(x-y))"
   ]
  },
  {
   "cell_type": "markdown",
   "metadata": {},
   "source": [
    "# Usage"
   ]
  },
  {
   "cell_type": "markdown",
   "metadata": {},
   "source": [
    "# Example from the lecture"
   ]
  },
  {
   "cell_type": "markdown",
   "metadata": {},
   "source": [
    "<img src=\"images/distance_table.png\"/>"
   ]
  },
  {
   "cell_type": "code",
   "execution_count": 7,
   "metadata": {
    "collapsed": true
   },
   "outputs": [],
   "source": [
    "points =np.matrix([\n",
    "    [0,2],\n",
    "    [2,0],\n",
    "    [3,1],\n",
    "    [5,1],\n",
    "])"
   ]
  },
  {
   "cell_type": "code",
   "execution_count": 8,
   "metadata": {},
   "outputs": [
    {
     "name": "stdout",
     "output_type": "stream",
     "text": [
      "EuclideanDistance\n",
      "[[ 0.          2.82842712  3.16227766  5.09901951]\n",
      " [ 2.82842712  0.          1.41421356  3.16227766]\n",
      " [ 3.16227766  1.41421356  0.          2.        ]\n",
      " [ 5.09901951  3.16227766  2.          0.        ]]\n",
      "\n",
      "ManhattanDistance\n",
      "[[ 0.  4.  4.  6.]\n",
      " [ 4.  0.  2.  4.]\n",
      " [ 4.  2.  0.  2.]\n",
      " [ 6.  4.  2.  0.]]\n",
      "\n",
      "SupremumDistance\n",
      "[[ 0.  2.  3.  5.]\n",
      " [ 2.  0.  1.  3.]\n",
      " [ 3.  1.  0.  2.]\n",
      " [ 5.  3.  2.  0.]]\n",
      "\n",
      "MinkowskiDistance with r = 3\n",
      "[[ 0.          2.5198421   3.03658897  5.01329793]\n",
      " [ 2.5198421   0.          1.25992105  3.03658897]\n",
      " [ 3.03658897  1.25992105  0.          2.        ]\n",
      " [ 5.01329793  3.03658897  2.          0.        ]]\n"
     ]
    }
   ],
   "source": [
    "tables = np.zeros((points.shape[0],points.shape[0]))\n",
    "for i in range(len(points)):\n",
    "    for j in range(len(points)):\n",
    "        tables[i][j]=(EuclideanDistance(points[i],points[j]))\n",
    "print(\"EuclideanDistance\")\n",
    "print(tables)\n",
    "    \n",
    "tables = np.zeros((points.shape[0],points.shape[0]))\n",
    "for i in range(len(points)):\n",
    "    for j in range(len(points)):\n",
    "        tables[i][j]=(ManhattanDistance(points[i],points[j]))\n",
    "print(\"\\nManhattanDistance\")\n",
    "print(tables)\n",
    "    \n",
    "tables = np.zeros((points.shape[0],points.shape[0]))\n",
    "for i in range(len(points)):\n",
    "    for j in range(len(points)):\n",
    "        tables[i][j]=(SupremumDistance(points[i],points[j]))\n",
    "print(\"\\nSupremumDistance\")\n",
    "print(tables)\n",
    "\n",
    "\n",
    "tables = np.zeros((points.shape[0],points.shape[0]))\n",
    "for i in range(len(points)):\n",
    "    for j in range(len(points)):\n",
    "        tables[i][j]=(MinkowskiDistance(points[i],points[j],3))\n",
    "print(\"\\nMinkowskiDistance with r = 3\")\n",
    "print(tables)"
   ]
  }
 ],
 "metadata": {
  "kernelspec": {
   "display_name": "Python 3",
   "language": "python",
   "name": "python3"
  },
  "language_info": {
   "codemirror_mode": {
    "name": "ipython",
    "version": 3
   },
   "file_extension": ".py",
   "mimetype": "text/x-python",
   "name": "python",
   "nbconvert_exporter": "python",
   "pygments_lexer": "ipython3",
   "version": "3.6.3"
  }
 },
 "nbformat": 4,
 "nbformat_minor": 2
}
