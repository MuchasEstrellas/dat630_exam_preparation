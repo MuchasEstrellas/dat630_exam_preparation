{
 "cells": [
  {
   "cell_type": "markdown",
   "metadata": {
    "collapsed": true
   },
   "source": [
    "# Rule Based Classifier"
   ]
  },
  {
   "cell_type": "code",
   "execution_count": 6,
   "metadata": {
    "collapsed": true
   },
   "outputs": [],
   "source": [
    "import numpy as np\n",
    "import re"
   ]
  },
  {
   "cell_type": "code",
   "execution_count": 7,
   "metadata": {
    "collapsed": true
   },
   "outputs": [],
   "source": [
    "\n",
    "def is_number(s):\n",
    "    try:\n",
    "        complex(s) # for int, long, float and complex\n",
    "    except ValueError:\n",
    "        return False\n",
    "\n",
    "    return True\n",
    "def extract_operator(q,operands):\n",
    "    for operand in operands:\n",
    "        q=q.replace(operand,\"\")\n",
    "    return q\n",
    "def rule_base_classifier(cols,records,query):\n",
    "    records = records.copy()\n",
    "    str_to_num = {}\n",
    "    number = 0\n",
    "\n",
    "    for i in range(len(records[0])):\n",
    "        for ele in set(records[:,i]):\n",
    "            if not is_number(ele):\n",
    "                str_to_num[ele] = number\n",
    "                number+=1\n",
    "\n",
    "    for i,row in enumerate(records) :\n",
    "        for j, col in enumerate(row) :\n",
    "            if not is_number(col):\n",
    "                records[i][j] = int(str_to_num[col])\n",
    "\n",
    "    \n",
    "    \n",
    "    selected_records=None\n",
    "    records=records.astype(float)\n",
    "    for_coverage = records\n",
    "    for_accuracy = records\n",
    "    for q in query[:-1]:\n",
    "        q= q.replace(\" \", \"\")\n",
    "        operands = re.split(\"[\\=\\<\\<=\\>\\>=]+\", q)\n",
    "        operator = extract_operator(q,operands)\n",
    "        col_idx = cols.index(operands[0])\n",
    "        col_val = operands[1]\n",
    "        if not is_number(col_val):\n",
    "            col_val = str_to_num[col_val]\n",
    "        col_val = float(col_val)\n",
    "        if operator == \"==\":\n",
    "            selected_records = for_coverage[for_coverage[:,col_idx] == col_val]\n",
    "        elif operator == \"<=\":\n",
    "            selected_records = for_coverage[for_coverage[:,col_idx] <= col_val]\n",
    "        elif operator == \"<\":\n",
    "            selected_records = for_coverage[for_coverage[:,col_idx] < col_val]\n",
    "        elif operator == \">\":\n",
    "            selected_records = for_coverage[for_coverage[:,col_idx] > col_val]\n",
    "        elif operator == \">=\":\n",
    "            selected_records = for_coverage[for_coverage[:,col_idx] >= col_val]\n",
    "        \n",
    "        for_coverage = selected_records\n",
    "        \n",
    "    selected_records=None   \n",
    "    for q in query:\n",
    "        q= q.replace(\" \", \"\")\n",
    "        operands = re.split(\"[\\=\\<\\<=\\>\\>=]+\", q)\n",
    "        operator = extract_operator(q,operands)\n",
    "        col_idx = cols.index(operands[0])\n",
    "        col_val = operands[1]\n",
    "        if not is_number(col_val):\n",
    "            col_val = str_to_num[col_val]\n",
    "        col_val = float(col_val)\n",
    "        if operator == \"==\":\n",
    "            selected_records = for_accuracy[for_accuracy[:,col_idx] == col_val]\n",
    "        elif operator == \"<=\":\n",
    "            selected_records = for_accuracy[for_accuracy[:,col_idx] <= col_val]\n",
    "        elif operator == \"<\":\n",
    "            selected_records = for_accuracy[for_accuracy[:,col_idx] < col_val]\n",
    "        elif operator == \">\":\n",
    "            selected_records = for_accuracy[for_accuracy[:,col_idx] > col_val]\n",
    "        elif operator == \">=\":\n",
    "            selected_records = for_accuracy[for_accuracy[:,col_idx] >= col_val]\n",
    "        \n",
    "        for_accuracy = selected_records\n",
    "    \n",
    "    \n",
    "    \n",
    "    #print(for_coverage)\n",
    "    #print(for_accuracy)\n",
    "    print(query)\n",
    "    print(\"Coverage = {}/{} = {}\".format(len(for_coverage),len(records),round(len(for_coverage)/len(records),3)))       \n",
    "    if len(for_coverage) :\n",
    "        print(\"Accuracy = {}/{} = {}\".format(len(for_accuracy),len(for_coverage),round(len(for_accuracy)/len(for_coverage),3)))\n",
    "    else :\n",
    "        print(\"Accuracy = 0/0\")\n",
    "    print(\"\\n\")\n",
    "            "
   ]
  },
  {
   "cell_type": "markdown",
   "metadata": {},
   "source": [
    "# Usage"
   ]
  },
  {
   "cell_type": "markdown",
   "metadata": {},
   "source": [
    "# Exercise-9 Case"
   ]
  },
  {
   "cell_type": "markdown",
   "metadata": {},
   "source": [
    "<img src=\"images/rule_based.png\" />"
   ]
  },
  {
   "cell_type": "code",
   "execution_count": 8,
   "metadata": {
    "collapsed": true
   },
   "outputs": [],
   "source": [
    "\n",
    "Cols = [\"Outlook\",\"Temp\",\"Humidity\",\"Windy\", \"Play\"]\n",
    "Records = np.array([\n",
    "    [\"sunny\",85,85,\"false\",\"No\"],\n",
    "    [\"sunny\",80,90,\"true\",\"No\"],\n",
    "    [\"overcast\",83,78,\"false\",\"Yes\"],\n",
    "    [\"rain\",70,96,\"false\",\"Yes\"],\n",
    "    [\"rain\",68,80,\"false\",\"Yes\"],\n",
    "    [\"rain\",65,70,\"true\",\"No\"],\n",
    "    [\"overcast\",64,65,\"true\",\"Yes\"],\n",
    "    [\"sunny\",72,95,\"false\",\"No\"],\n",
    "    [\"sunny\",69,70,\"false\",\"Yes\"],\n",
    "    [\"rain\",75,80,\"false\",\"Yes\"],\n",
    "    [\"sunny\",75,70,\"true\",\"Yes\"],\n",
    "    [\"overcast\",72,90,\"true\",\"Yes\"],\n",
    "    [\"overcast\",81,75,\"false\",\"Yes\"],\n",
    "    [\"rain\",71,80,\"true\",\"No\"],\n",
    "])\n",
    "\n",
    "\n"
   ]
  },
  {
   "cell_type": "markdown",
   "metadata": {},
   "source": [
    "<img src=\"images/rule_based_sol.png\" />"
   ]
  },
  {
   "cell_type": "code",
   "execution_count": 9,
   "metadata": {},
   "outputs": [
    {
     "name": "stdout",
     "output_type": "stream",
     "text": [
      "['Outlook==sunny', 'Humidity<=75', 'Play==Yes']\n",
      "Coverage = 2/14 = 0.143\n",
      "Accuracy = 2/2 = 1.0\n",
      "\n",
      "\n",
      "['Outlook==sunny', 'Humidity>75', 'Play==No']\n",
      "Coverage = 3/14 = 0.214\n",
      "Accuracy = 3/3 = 1.0\n",
      "\n",
      "\n",
      "['Outlook==overcast', 'Play==Yes']\n",
      "Coverage = 4/14 = 0.286\n",
      "Accuracy = 4/4 = 1.0\n",
      "\n",
      "\n",
      "['Outlook==rain', 'Windy==false', 'Temp<=75', 'Play==Yes']\n",
      "Coverage = 3/14 = 0.214\n",
      "Accuracy = 3/3 = 1.0\n",
      "\n",
      "\n",
      "['Outlook==rain', 'Windy==false', 'Temp>75', 'Play==No']\n",
      "Coverage = 0/14 = 0.0\n",
      "Accuracy = 0/0\n",
      "\n",
      "\n",
      "['Outlook==rain', 'Windy==true', 'Play==No']\n",
      "Coverage = 2/14 = 0.143\n",
      "Accuracy = 2/2 = 1.0\n",
      "\n",
      "\n"
     ]
    }
   ],
   "source": [
    "#important notice\n",
    "#case sensitive\n",
    "\n",
    "#table's r4 and r5 seem wrong\n",
    "#for r4 there should be three records\n",
    "#[\"rain\",70,96,\"false\",\"Yes\"],\n",
    "#[\"rain\",68,80,\"false\",\"Yes\"],\n",
    "#[\"rain\",75,80,\"false\",\"Yes\"],\n",
    "#for r5 none\n",
    "\n",
    "\n",
    "Query = [\"Outlook==sunny\",\"Humidity<=75\",\"Play==Yes\"]\n",
    "rule_base_classifier(Cols,Records,Query)\n",
    "\n",
    "Query = [\"Outlook==sunny\",\"Humidity>75\",\"Play==No\"]\n",
    "rule_base_classifier(Cols,Records,Query)\n",
    "\n",
    "Query = [\"Outlook==overcast\",\"Play==Yes\"]\n",
    "rule_base_classifier(Cols,Records,Query)\n",
    "\n",
    "Query = [\"Outlook==rain\",\"Windy==false\",\"Temp<=75\",\"Play==Yes\"]\n",
    "rule_base_classifier(Cols,Records,Query)\n",
    "\n",
    "Query = [\"Outlook==rain\",\"Windy==false\",\"Temp>75\",\"Play==No\"]\n",
    "rule_base_classifier(Cols,Records,Query)\n",
    "\n",
    "Query = [\"Outlook==rain\",\"Windy==true\",\"Play==No\"]\n",
    "rule_base_classifier(Cols,Records,Query)\n"
   ]
  },
  {
   "cell_type": "markdown",
   "metadata": {},
   "source": [
    "# Trial Exam Case"
   ]
  },
  {
   "cell_type": "markdown",
   "metadata": {},
   "source": [
    "<img src=\"images/rule_based_exam.png\" />"
   ]
  },
  {
   "cell_type": "code",
   "execution_count": 10,
   "metadata": {},
   "outputs": [
    {
     "name": "stdout",
     "output_type": "stream",
     "text": [
      "['Age<=40', 'Gender==male', 'Class==Yes']\n",
      "Coverage = 5/10 = 0.5\n",
      "Accuracy = 3/5 = 0.6\n",
      "\n",
      "\n"
     ]
    }
   ],
   "source": [
    "\n",
    "Cols = [\"Age\",\"Income\",\"Gender\",\"Class\"]\n",
    "Records = np.array([\n",
    "    [22,20,\"male\",\"Yes\"],\n",
    "    [33,70,\"female\",\"No\"],\n",
    "    [42,100,\"male\",\"Yes\"],\n",
    "    [28,75,\"male\",\"Yes\"],\n",
    "    [31,90,\"female\",\"No\"],\n",
    "    [17,5,\"male\",\"No\"],\n",
    "    [54,120,\"female\",\"No\"],\n",
    "    [40,200,\"female\",\"Yes\"],\n",
    "    [25,60,\"male\",\"Yes\"],\n",
    "    [23,55,\"male\",\"No\"],\n",
    "])\n",
    "\n",
    "Query = [\"Age<=40\",\"Gender==male\",\"Class==Yes\"]\n",
    "rule_base_classifier(Cols,Records,Query)\n",
    "\n"
   ]
  },
  {
   "cell_type": "code",
   "execution_count": null,
   "metadata": {
    "collapsed": true
   },
   "outputs": [],
   "source": []
  }
 ],
 "metadata": {
  "kernelspec": {
   "display_name": "Python 3",
   "language": "python",
   "name": "python3"
  },
  "language_info": {
   "codemirror_mode": {
    "name": "ipython",
    "version": 3
   },
   "file_extension": ".py",
   "mimetype": "text/x-python",
   "name": "python",
   "nbconvert_exporter": "python",
   "pygments_lexer": "ipython3",
   "version": "3.6.3"
  }
 },
 "nbformat": 4,
 "nbformat_minor": 2
}
