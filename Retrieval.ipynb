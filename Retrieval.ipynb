{
 "cells": [
  {
   "cell_type": "markdown",
   "metadata": {
    "collapsed": true
   },
   "source": [
    "# Retrieval"
   ]
  },
  {
   "cell_type": "code",
   "execution_count": 307,
   "metadata": {
    "collapsed": true
   },
   "outputs": [],
   "source": [
    "import numpy"
   ]
  },
  {
   "cell_type": "code",
   "execution_count": 308,
   "metadata": {},
   "outputs": [],
   "source": [
    "def sumColumn(matrix):\n",
    "    return numpy.sum(matrix, axis=0)\n",
    "def sumRow(matrix):\n",
    "    return numpy.sum(matrix, axis=1)\n",
    "def emprical_language_model(matrix):\n",
    "    with numpy.errstate(divide='ignore', invalid='ignore'):\n",
    "        d_list = numpy.sum(matrix, axis=0)\n",
    "        return numpy.round(matrix/d_list,3)\n",
    "def collection_language_model(matrix):\n",
    "    with numpy.errstate(divide='ignore', invalid='ignore'):\n",
    "        return numpy.round(sumRow(matrix)/matrix.sum(),3)\n",
    "def Jelinek_Mercer_smoothing(matrix,param):\n",
    "    with numpy.errstate(divide='ignore', invalid='ignore'):\n",
    "        emtx = emprical_language_model(matrix)\n",
    "        cmtx = collection_language_model(matrix)\n",
    "        return numpy.round((1-param)*emtx+param*cmtx,3)\n",
    "    \n",
    "def Dirichlet_smoothing(matrix,param):\n",
    "    with numpy.errstate(divide='ignore', invalid='ignore'):\n",
    "        cmtx = collection_language_model(matrix)\n",
    "        return numpy.round((matrix+param*cmtx)/(sumColumn(matrix)+param),3)\n",
    "    \n",
    "def BM25(matrix, k1, b, avgdl, collection, N, length=numpy.matrix([])):\n",
    "    d = None\n",
    "    if length.all() :\n",
    "         d=length   \n",
    "    else :\n",
    "        d = sumColumn(matrix)\n",
    "\n",
    "    with numpy.errstate(divide='ignore', invalid='ignore'):\n",
    "        return(numpy.multiply((matrix*(1+k1))/(matrix+k1*(1-b+b*(d/avgdl))),numpy.log10(N/collection)))\n",
    "    \n",
    "def query(queries,matrix,isSum=False):\n",
    "    if isSum :\n",
    "        matrix_one = numpy.zeros((1, matrix.shape[1]))\n",
    "    else :\n",
    "        matrix_one = numpy.ones((1, matrix.shape[1]))\n",
    "    for q in queries:\n",
    "        if isSum :\n",
    "            matrix_one+=matrix[q,:]\n",
    "        else :\n",
    "            matrix_one*=matrix[q,:]\n",
    "    \n",
    "    return numpy.round(matrix_one,3)\n",
    "    "
   ]
  },
  {
   "cell_type": "markdown",
   "metadata": {},
   "source": [
    "# Usage"
   ]
  },
  {
   "cell_type": "markdown",
   "metadata": {},
   "source": [
    "# Exercises for Lecture 2"
   ]
  },
  {
   "cell_type": "markdown",
   "metadata": {},
   "source": [
    "\n",
    "<img src=\"images/lm_model_exercise.png\">"
   ]
  },
  {
   "cell_type": "code",
   "execution_count": 309,
   "metadata": {
    "collapsed": true
   },
   "outputs": [],
   "source": [
    "#TODO\n",
    "ROW = [\"T1\",\"T2\",\"T3\",\"T4\",\"T5\",\"T6\"]\n",
    "mtx = numpy.matrix([\n",
    "    [ 0.,  1.,  0.,  0.,  1.],\n",
    "    [ 0.,  1.,  0.,  0.,  1.],\n",
    "    [ 3.,  2.,  2.,  0.,  1.],\n",
    "    [ 0.,  0.,  1.,  1.,  0.],\n",
    "    [ 0.,  0.,  1.,  1.,  1.],\n",
    "    [ 2.,  1.,  0.,  2.,  0.]\n",
    "])"
   ]
  },
  {
   "cell_type": "code",
   "execution_count": 310,
   "metadata": {},
   "outputs": [
    {
     "name": "stdout",
     "output_type": "stream",
     "text": [
      "[[ 0.  1.  0.  0.  1.]\n",
      " [ 0.  1.  0.  0.  1.]\n",
      " [ 3.  2.  2.  0.  1.]\n",
      " [ 0.  0.  1.  1.  0.]\n",
      " [ 0.  0.  1.  1.  1.]\n",
      " [ 2.  1.  0.  2.  0.]]\n",
      "[[ 5.  5.  4.  4.  4.]]\n"
     ]
    }
   ],
   "source": [
    "print(mtx)\n",
    "print(sumColumn(mtx))"
   ]
  },
  {
   "cell_type": "code",
   "execution_count": 311,
   "metadata": {},
   "outputs": [
    {
     "name": "stdout",
     "output_type": "stream",
     "text": [
      "empirical language models\n",
      "[[ 0.    0.2   0.    0.    0.25]\n",
      " [ 0.    0.2   0.    0.    0.25]\n",
      " [ 0.6   0.4   0.5   0.    0.25]\n",
      " [ 0.    0.    0.25  0.25  0.  ]\n",
      " [ 0.    0.    0.25  0.25  0.25]\n",
      " [ 0.4   0.2   0.    0.5   0.  ]]\n",
      "[ 1.  1.  1.  1.  1.]\n"
     ]
    }
   ],
   "source": [
    "print(\"empirical language models\")\n",
    "emtx = emprical_language_model(mtx)\n",
    "print(emtx)\n",
    "print(sumColumn(emtx))"
   ]
  },
  {
   "cell_type": "code",
   "execution_count": 312,
   "metadata": {},
   "outputs": [
    {
     "name": "stdout",
     "output_type": "stream",
     "text": [
      "collecction language models\n",
      "[[ 0.091]\n",
      " [ 0.091]\n",
      " [ 0.364]\n",
      " [ 0.091]\n",
      " [ 0.136]\n",
      " [ 0.227]]\n",
      "[ 1.]\n"
     ]
    }
   ],
   "source": [
    "print(\"collecction language models\")\n",
    "cmtx = collection_language_model(mtx)\n",
    "print(cmtx)\n",
    "print(sumColumn(cmtx))"
   ]
  },
  {
   "cell_type": "code",
   "execution_count": 313,
   "metadata": {},
   "outputs": [
    {
     "name": "stdout",
     "output_type": "stream",
     "text": [
      "Jelinek-Mercer smoothing models\n",
      "[[ 0.009  0.189  0.009  0.009  0.234]\n",
      " [ 0.009  0.189  0.009  0.009  0.234]\n",
      " [ 0.576  0.396  0.486  0.036  0.261]\n",
      " [ 0.009  0.009  0.234  0.234  0.009]\n",
      " [ 0.014  0.014  0.239  0.239  0.239]\n",
      " [ 0.383  0.203  0.023  0.473  0.023]]\n"
     ]
    }
   ],
   "source": [
    "print(\"Jelinek-Mercer smoothing models\")\n",
    "param = 0.1\n",
    "jmsmtx = Jelinek_Mercer_smoothing(mtx,param)\n",
    "print(jmsmtx)"
   ]
  },
  {
   "cell_type": "code",
   "execution_count": 314,
   "metadata": {},
   "outputs": [
    {
     "name": "stdout",
     "output_type": "stream",
     "text": [
      "\n",
      "Query test T3\n",
      "[[ 0.576  0.396  0.486  0.036  0.261]]\n",
      "\n",
      "Query test T2 T1\n",
      "[[ 0.     0.036  0.     0.     0.055]]\n",
      "\n",
      "Query test T6\n",
      "[[ 0.383  0.203  0.023  0.473  0.023]]\n",
      "\n",
      "Query test T3 T1 T3 T2\n",
      "[[ 0.     0.006  0.     0.     0.004]]\n"
     ]
    }
   ],
   "source": [
    "print(\"\\nQuery test T3\")\n",
    "querys = [\"T3\"]\n",
    "query_to_idx = [ROW.index(q) for q in querys]\n",
    "print(query(query_to_idx,jmsmtx))\n",
    "print(\"\\nQuery test T2 T1\")\n",
    "querys = [\"T2\",\"T1\"]\n",
    "query_to_idx = [ROW.index(q) for q in querys]\n",
    "print(query(query_to_idx,jmsmtx))\n",
    "print(\"\\nQuery test T6\")\n",
    "querys = [\"T6\"]\n",
    "query_to_idx = [ROW.index(q) for q in querys]\n",
    "print(query(query_to_idx,jmsmtx))\n",
    "\n",
    "print(\"\\nQuery test T3 T1 T3 T2\")\n",
    "querys = [\"T3\",\"T1\",\"T3\",\"T2\"]\n",
    "query_to_idx = [ROW.index(q) for q in querys]\n",
    "print(query(query_to_idx,jmsmtx))"
   ]
  },
  {
   "cell_type": "markdown",
   "metadata": {},
   "source": [
    "# Trial Exam Case"
   ]
  },
  {
   "cell_type": "markdown",
   "metadata": {},
   "source": [
    "\n",
    "<img src=\"images/lm_model_exam.png\">"
   ]
  },
  {
   "cell_type": "code",
   "execution_count": 315,
   "metadata": {},
   "outputs": [
    {
     "name": "stdout",
     "output_type": "stream",
     "text": [
      "[[ 1.  1.  2.  1.]\n",
      " [ 0.  2.  0.  1.]\n",
      " [ 2.  0.  1.  0.]\n",
      " [ 4.  0.  1.  2.]\n",
      " [ 1.  2.  1.  0.]]\n",
      "[[ 8.  5.  5.  4.]]\n",
      "\n",
      "empirical language models\n",
      "[[ 0.125  0.2    0.4    0.25 ]\n",
      " [ 0.     0.4    0.     0.25 ]\n",
      " [ 0.25   0.     0.2    0.   ]\n",
      " [ 0.5    0.     0.2    0.5  ]\n",
      " [ 0.125  0.4    0.2    0.   ]]\n",
      "[ 1.  1.  1.  1.]\n",
      "\n",
      "collecction language models\n",
      "[[ 0.227]\n",
      " [ 0.136]\n",
      " [ 0.136]\n",
      " [ 0.318]\n",
      " [ 0.182]]\n",
      "[ 0.999]\n",
      "\n",
      "Dirichlet smoothing models\n",
      "[[ 0.169  0.215  0.306  0.236]\n",
      " [ 0.058  0.256  0.074  0.182]\n",
      " [ 0.201  0.074  0.165  0.082]\n",
      " [ 0.422  0.173  0.264  0.391]\n",
      " [ 0.149  0.281  0.19   0.109]]\n",
      "\n",
      "Query test T5 T2\n",
      "[[ 0.009  0.072  0.014  0.02 ]]\n"
     ]
    }
   ],
   "source": [
    "#TODO\n",
    "COL = [\"D1\",\"D2\",\"D3\",\"D4\"]\n",
    "ROW = [\"T1\",\"T2\",\"T3\",\"T4\",\"T5\"]\n",
    "mtx = numpy.matrix([\n",
    "    [ 1.,  1.,  2.,  1.],\n",
    "    [ 0.,  2.,  0.,  1.],\n",
    "    [ 2.,  0.,  1.,  0.],\n",
    "    [ 4.,  0.,  1.,  2.],\n",
    "    [ 1.,  2.,  1.,  0.],\n",
    "])\n",
    "print(mtx)\n",
    "print(sumColumn(mtx))\n",
    "print(\"\\nempirical language models\")\n",
    "emtx = emprical_language_model(mtx)\n",
    "print(emtx)\n",
    "print(sumColumn(emtx))\n",
    "print(\"\\ncollecction language models\")\n",
    "cmtx = collection_language_model(mtx)\n",
    "print(cmtx)\n",
    "print(sumColumn(cmtx))\n",
    "print(\"\\nDirichlet smoothing models\")\n",
    "param = 6\n",
    "dsmtx = Dirichlet_smoothing(mtx,param)\n",
    "print(dsmtx)\n",
    "print(\"\\nQuery test T5 T2\")\n",
    "querys = [\"T5\",\"T2\"]\n",
    "query_to_idx = [ROW.index(q) for q in querys]\n",
    "print(query(query_to_idx,dsmtx))"
   ]
  },
  {
   "cell_type": "markdown",
   "metadata": {},
   "source": [
    "# Last year trial exam case"
   ]
  },
  {
   "cell_type": "markdown",
   "metadata": {},
   "source": [
    "<img src=\"images/bm25.png\"/>"
   ]
  },
  {
   "cell_type": "code",
   "execution_count": 316,
   "metadata": {},
   "outputs": [
    {
     "name": "stdout",
     "output_type": "stream",
     "text": [
      "BM25 scores\n",
      "[[ 1.76        1.88841202]\n",
      " [ 0.          2.34611966]\n",
      " [ 2.09843655  2.13180391]\n",
      " [ 1.65042728  1.70626881]\n",
      " [ 2.04651163  1.3253012 ]\n",
      " [ 3.06481042  3.11354415]]\n",
      "Query t2 score\n",
      "[[ 0.     2.346]]\n",
      "Query t2,t2,t5, score\n",
      "[[ 2.047  6.018]]\n"
     ]
    }
   ],
   "source": [
    "#so much data to organize.\n",
    "#be careful for setting the data scheme.\n",
    "COL = [\"D1\",\"D2\"]\n",
    "ROW = [\"T1\",\"T2\",\"T3\",\"T4\",\"T5\",\"T6\"]\n",
    "mtx = numpy.matrix([\n",
    "    [ 3.,  4.],\n",
    "    [ 0.,  3.],\n",
    "    [ 5.,  5.],\n",
    "    [ 2.,  2.],\n",
    "    [ 10.,  1.],\n",
    "    [ 5.,  5.],\n",
    "])\n",
    "collection = numpy.matrix([\n",
    "    [100],\n",
    "    [50],\n",
    "    [80],\n",
    "    [93],\n",
    "    [100],\n",
    "    [25],\n",
    "])\n",
    "length = numpy.matrix([\n",
    "    [25,20],\n",
    "])\n",
    "\n",
    "N=1000\n",
    "k1=1.2\n",
    "b=0.75\n",
    "avgdl = 50\n",
    "\n",
    "bm25mtx = BM25(mtx, k1, b, avgdl,collection, N, length=length)\n",
    "print(\"BM25 scores\")\n",
    "print(bm25mtx)\n",
    "\n",
    "querys = [\"T2\"]\n",
    "query_to_idx = [ROW.index(q) for q in querys]\n",
    "print(\"Query t2 score\")\n",
    "print(query(query_to_idx,bm25mtx))\n",
    "\n",
    "\n",
    "print(\"Query t2,t2,t5, score\")\n",
    "querys = [\"T2\",\"T2\",\"T5\"]\n",
    "query_to_idx = [ROW.index(q) for q in querys]\n",
    "\n",
    "#isSum=True is important for this case. because it is not the probability, we need to add them.\n",
    "print(query(query_to_idx,bm25mtx,isSum=True))"
   ]
  },
  {
   "cell_type": "code",
   "execution_count": null,
   "metadata": {
    "collapsed": true
   },
   "outputs": [],
   "source": []
  }
 ],
 "metadata": {
  "kernelspec": {
   "display_name": "Python 3",
   "language": "python",
   "name": "python3"
  },
  "language_info": {
   "codemirror_mode": {
    "name": "ipython",
    "version": 3
   },
   "file_extension": ".py",
   "mimetype": "text/x-python",
   "name": "python",
   "nbconvert_exporter": "python",
   "pygments_lexer": "ipython3",
   "version": "3.6.3"
  }
 },
 "nbformat": 4,
 "nbformat_minor": 2
}
