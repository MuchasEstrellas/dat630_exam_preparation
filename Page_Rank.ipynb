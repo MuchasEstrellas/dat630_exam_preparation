{
 "cells": [
  {
   "cell_type": "code",
   "execution_count": 200,
   "metadata": {
    "collapsed": true
   },
   "outputs": [],
   "source": [
    "import numpy as np"
   ]
  },
  {
   "cell_type": "code",
   "execution_count": 201,
   "metadata": {
    "collapsed": true
   },
   "outputs": [],
   "source": [
    "def divide(a,b):\n",
    "    return(np.divide(a,b,out=np.zeros_like(a), where=b!=0))\n",
    "\n",
    "def calculate(links,mtx):\n",
    "    newMtx = np.zeros((mtx.shape))\n",
    "\n",
    "    for i in range(mtx.shape[0]):\n",
    "        row = links[:,i]\n",
    "        newMtx[i][0]=np.sum(divide(np.multiply(mtx,row),row))\n",
    "\n",
    "    return (newMtx)\n",
    "\n",
    "def pageRank(links,q,iteration):\n",
    "    pr = np.ones((len(links),1))/len(links)\n",
    "    rankSinks = np.where(~links.any(axis=1))[0]\n",
    "\n",
    "    for i in rankSinks :\n",
    "        links[i].fill(1)\n",
    "\n",
    "    print(\"\\nIteration : 0\")\n",
    "    print(pr)\n",
    "    for i in range(iteration):\n",
    "        temp_pr = pr.copy()\n",
    "        pr = (q/len(links))+(1-q)*calculate(links,temp_pr/np.sum(links, axis=1))\n",
    "        print(\"\\nIteration : \"+str(i+1))\n",
    "        print(pr)"
   ]
  },
  {
   "cell_type": "markdown",
   "metadata": {},
   "source": [
    "<img src=\"images/pagerank_a_1.png\"/>"
   ]
  },
  {
   "cell_type": "markdown",
   "metadata": {},
   "source": [
    "<img src=\"images/pagerank_a_2.png\"/>"
   ]
  },
  {
   "cell_type": "code",
   "execution_count": 202,
   "metadata": {},
   "outputs": [
    {
     "name": "stdout",
     "output_type": "stream",
     "text": [
      "\n",
      "Iteration : 0\n",
      "[[ 0.33333333]\n",
      " [ 0.33333333]\n",
      " [ 0.33333333]]\n",
      "\n",
      "Iteration : 1\n",
      "[[ 0.33333333]\n",
      " [ 0.25      ]\n",
      " [ 0.41666667]]\n",
      "\n",
      "Iteration : 2\n",
      "[[ 0.375]\n",
      " [ 0.25 ]\n",
      " [ 0.375]]\n",
      "\n",
      "Iteration : 3\n",
      "[[ 0.35416667]\n",
      " [ 0.26041667]\n",
      " [ 0.38541667]]\n",
      "\n",
      "Iteration : 4\n",
      "[[ 0.359375  ]\n",
      " [ 0.25520833]\n",
      " [ 0.38541667]]\n"
     ]
    }
   ],
   "source": [
    "#out link based\n",
    "LINKINGS = np.matrix([\n",
    "    [0,1,1],\n",
    "    [0,0,1],\n",
    "    [1,0,0],\n",
    "])\n",
    "q = 0.5\n",
    "pageRank(LINKINGS,q,4)"
   ]
  },
  {
   "cell_type": "markdown",
   "metadata": {},
   "source": [
    "<img src=\"images/pagerank_b_1.png\"/>\n",
    "<img src=\"images/pagerank_b_2.png\"/>"
   ]
  },
  {
   "cell_type": "code",
   "execution_count": 203,
   "metadata": {},
   "outputs": [
    {
     "name": "stdout",
     "output_type": "stream",
     "text": [
      "\n",
      "Iteration : 0\n",
      "[[ 0.16666667]\n",
      " [ 0.16666667]\n",
      " [ 0.16666667]\n",
      " [ 0.16666667]\n",
      " [ 0.16666667]\n",
      " [ 0.16666667]]\n",
      "\n",
      "Iteration : 1\n",
      "[[ 0.09583333]\n",
      " [ 0.16666667]\n",
      " [ 0.11944444]\n",
      " [ 0.26111111]\n",
      " [ 0.16666667]\n",
      " [ 0.19027778]]\n",
      "\n",
      "Iteration : 2\n",
      "[[ 0.0824537 ]\n",
      " [ 0.12318287]\n",
      " [ 0.08934028]\n",
      " [ 0.28118056]\n",
      " [ 0.19342593]\n",
      " [ 0.23041667]]\n",
      "\n",
      "Iteration : 3\n",
      "[[ 0.06776399]\n",
      " [ 0.10280681]\n",
      " [ 0.07749373]\n",
      " [ 0.32051109]\n",
      " [ 0.18726572]\n",
      " [ 0.24415866]]\n",
      "\n",
      "Iteration : 4\n",
      "[[ 0.06152086]\n",
      " [ 0.09032055]\n",
      " [ 0.06836399]\n",
      " [ 0.32668709]\n",
      " [ 0.19773807]\n",
      " [ 0.25536944]]\n"
     ]
    }
   ],
   "source": [
    "#out link based\n",
    "LINKINGS = np.matrix([\n",
    "    [0,1,1,0,0,0],\n",
    "    [0,0,0,0,0,0],\n",
    "    [1,1,0,0,1,0],\n",
    "    [0,0,0,0,1,1],\n",
    "    [0,0,0,1,0,1],\n",
    "    [0,0,0,1,0,0],\n",
    "])\n",
    "q = 0.15\n",
    "\n",
    "pageRank(LINKINGS,q,4)"
   ]
  },
  {
   "cell_type": "markdown",
   "metadata": {},
   "source": [
    "<img src=\"images/pagerank_c.png\"/>"
   ]
  },
  {
   "cell_type": "code",
   "execution_count": 204,
   "metadata": {},
   "outputs": [
    {
     "name": "stdout",
     "output_type": "stream",
     "text": [
      "\n",
      "Iteration : 0\n",
      "[[ 0.25]\n",
      " [ 0.25]\n",
      " [ 0.25]\n",
      " [ 0.25]]\n",
      "\n",
      "Iteration : 1\n",
      "[[ 0.35]\n",
      " [ 0.15]\n",
      " [ 0.25]\n",
      " [ 0.25]]\n",
      "\n",
      "Iteration : 2\n",
      "[[ 0.31]\n",
      " [ 0.15]\n",
      " [ 0.21]\n",
      " [ 0.33]]\n",
      "\n",
      "Iteration : 3\n",
      "[[ 0.278]\n",
      " [ 0.182]\n",
      " [ 0.242]\n",
      " [ 0.298]]\n",
      "\n",
      "Iteration : 4\n",
      "[[ 0.3164]\n",
      " [ 0.1692]\n",
      " [ 0.242 ]\n",
      " [ 0.2724]]\n"
     ]
    }
   ],
   "source": [
    "#out link based\n",
    "LINKINGS = np.matrix([\n",
    "    [0,0,0,1],\n",
    "    [1,0,1,0],\n",
    "    [1,0,0,0],\n",
    "    [0,1,1,0],\n",
    "])\n",
    "q = 0.2\n",
    "\n",
    "pageRank(LINKINGS,q,4)"
   ]
  },
  {
   "cell_type": "markdown",
   "metadata": {
    "collapsed": true
   },
   "source": [
    "<img src=\"images/pagerank_d_1.png\"/>\n",
    "<img src=\"images/pagerank_d_2.png\"/>"
   ]
  },
  {
   "cell_type": "code",
   "execution_count": 205,
   "metadata": {},
   "outputs": [
    {
     "name": "stdout",
     "output_type": "stream",
     "text": [
      "\n",
      "Iteration : 0\n",
      "[[ 0.16666667]\n",
      " [ 0.16666667]\n",
      " [ 0.16666667]\n",
      " [ 0.16666667]\n",
      " [ 0.16666667]\n",
      " [ 0.16666667]]\n",
      "\n",
      "Iteration : 1\n",
      "[[ 0.08333333]\n",
      " [ 0.28333333]\n",
      " [ 0.18333333]\n",
      " [ 0.13333333]\n",
      " [ 0.18333333]\n",
      " [ 0.13333333]]\n",
      "\n",
      "Iteration : 2\n",
      "[[ 0.08 ]\n",
      " [ 0.21 ]\n",
      " [ 0.25 ]\n",
      " [ 0.135]\n",
      " [ 0.19 ]\n",
      " [ 0.135]]\n",
      "\n",
      "Iteration : 3\n",
      "[[ 0.08016667]\n",
      " [ 0.20916667]\n",
      " [ 0.20616667]\n",
      " [ 0.13716667]\n",
      " [ 0.23016667]\n",
      " [ 0.13716667]]\n",
      "\n",
      "Iteration : 4\n",
      "[[ 0.08038333]\n",
      " [ 0.21078333]\n",
      " [ 0.20588333]\n",
      " [ 0.14943333]\n",
      " [ 0.20408333]\n",
      " [ 0.14943333]]\n"
     ]
    }
   ],
   "source": [
    "#out link based\n",
    "LINKINGS = np.matrix([\n",
    "    [0,1,0,0,0,0],\n",
    "    [0,0,1,0,0,0],\n",
    "    [0,0,0,0,1,0],\n",
    "    [0,1,0,0,0,0],\n",
    "    [0,0,0,1,0,1],\n",
    "    [0,0,0,0,0,0],\n",
    "])\n",
    "q = 0.4\n",
    "\n",
    "pageRank(LINKINGS,q,4)"
   ]
  },
  {
   "cell_type": "code",
   "execution_count": null,
   "metadata": {
    "collapsed": true
   },
   "outputs": [],
   "source": []
  }
 ],
 "metadata": {
  "kernelspec": {
   "display_name": "Python 3",
   "language": "python",
   "name": "python3"
  },
  "language_info": {
   "codemirror_mode": {
    "name": "ipython",
    "version": 3
   },
   "file_extension": ".py",
   "mimetype": "text/x-python",
   "name": "python",
   "nbconvert_exporter": "python",
   "pygments_lexer": "ipython3",
   "version": "3.6.3"
  }
 },
 "nbformat": 4,
 "nbformat_minor": 2
}
