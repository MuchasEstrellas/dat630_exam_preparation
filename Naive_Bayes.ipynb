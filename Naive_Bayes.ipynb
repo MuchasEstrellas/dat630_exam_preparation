{
 "cells": [
  {
   "cell_type": "markdown",
   "metadata": {},
   "source": [
    "# Naive Bayes Classifier"
   ]
  },
  {
   "cell_type": "code",
   "execution_count": 136,
   "metadata": {
    "collapsed": true
   },
   "outputs": [],
   "source": [
    "import numpy as np\n",
    "import re\n",
    "import pprint\n",
    "import math"
   ]
  },
  {
   "cell_type": "code",
   "execution_count": 137,
   "metadata": {},
   "outputs": [],
   "source": [
    "\n",
    "def is_number(s):\n",
    "    try:\n",
    "        complex(s) # for int, long, float and complex\n",
    "    except ValueError:\n",
    "        return False\n",
    "\n",
    "    return True\n",
    "\n",
    "\n",
    "def numericalize_table(records):\n",
    "    records = records.copy()\n",
    "    str_to_num ={}\n",
    "    number=0\n",
    "    for i in range(len(records[0])):\n",
    "        for ele in set(records[:,i]):\n",
    "            if not is_number(ele):\n",
    "                str_to_num[ele] = number\n",
    "                number+=1\n",
    "\n",
    "    for i,row in enumerate(records) :\n",
    "        for j, col in enumerate(row) :\n",
    "            if not is_number(col):\n",
    "                records[i][j] = int(str_to_num[col])\n",
    "    records=records.astype(float)\n",
    "    \n",
    "    return records,str_to_num\n",
    "\n",
    "\n",
    "def select_row(col_idx, col_val,operator,records):\n",
    "    selected_records=None\n",
    "    if operator == \"==\":\n",
    "        selected_records = records[records[:,col_idx] == col_val]\n",
    "    elif operator == \"<=\":\n",
    "        selected_records = records[records[:,col_idx] <= col_val]\n",
    "    elif operator == \"<\":\n",
    "        selected_records = records[records[:,col_idx] < col_val]\n",
    "    elif operator == \">\":\n",
    "        selected_records = records[records[:,col_idx] > col_val]\n",
    "    elif operator == \">=\":\n",
    "        selected_records = records[records[:,col_idx] >= col_val]\n",
    "    return selected_records\n",
    "\n",
    "\n",
    "def print_format_division(a,b,laplaceC=0):\n",
    "    if laplaceC:\n",
    "        return str(len(a)+1)+\"/\"+str(len(b)+laplaceC)+\"=\"+str(round((len(a)+1)/(len(b)+laplaceC),3))\n",
    "    else:\n",
    "        return str(len(a))+\"/\"+str(len(b))+\"=\"+str(round(len(a)/len(b),3))    \n",
    "    \n",
    "\n",
    "def gaussian_pdf(mu,var,x):\n",
    "    return (1/math.sqrt(2*math.pi*var))*math.exp((-math.pow(x-mu,2))/(2*var))\n",
    "    \n",
    "def naive_bayes_classifier(cols,records,instance,isGaussian=False,isLaplace=False):\n",
    "    records = records.copy()\n",
    "    classes = set(records[:,-1])\n",
    "    str_to_num = {}\n",
    "    records, str_to_num =numericalize_table(records)\n",
    "\n",
    "    table={}\n",
    "    for i, cls in enumerate(classes) :    \n",
    "        cls_key = cls\n",
    "        cls = int(str_to_num[cls])\n",
    "        class_records = select_row(len(cols)-1, cls, \"==\",records)\n",
    "        table[cls_key] = {cls_key:print_format_division(class_records,records)}\n",
    "        prob = 1\n",
    "        prob*=len(class_records)/len(records)\n",
    "        for key, val in instance.items():\n",
    "            if type(val)==list:\n",
    "                if not isGaussian:\n",
    "                    s_records = select_row(cols.index(key), val[1], val[0],class_records)\n",
    "                    p=len(s_records)/len(class_records)\n",
    "                    prob*=p\n",
    "                    table[cls_key][str(key)+val[0]+str(val)] = print_format_division(s_records,class_records)\n",
    "                else :\n",
    "                    p=gaussian_pdf(np.mean(class_records[:,cols.index(key)]), np.var(class_records[:,cols.index(key)],ddof=1), val)\n",
    "                    prob*=p\n",
    "                    table[cls_key][\"(G)\"+str(key)+\"==\"+str(val)] = str(p)\n",
    "            else :\n",
    "                if not isLaplace:\n",
    "                    s_records = select_row(cols.index(key), str_to_num[val], \"==\",class_records)\n",
    "                    p=len(s_records)/len(class_records)\n",
    "                    prob*=p\n",
    "                    table[cls_key][str(key)+\"=\"+str(val)] = print_format_division(s_records,class_records)\n",
    "                else :\n",
    "                    s_records = select_row(cols.index(key), str_to_num[val], \"==\",class_records)\n",
    "                    p=(len(s_records))+1/(len(class_records)+len(classes))\n",
    "                    prob*=p\n",
    "                    table[cls_key][str(key)+\"=\"+str(val)] = print_format_division(s_records,class_records,len(classes))\n",
    "                    \n",
    "                          \n",
    "        print(\"P(\"+cls_key+\"|X)=\"+str(round(prob,10)))\n",
    "    pprint.pprint(table)\n",
    "\n",
    "            "
   ]
  },
  {
   "cell_type": "markdown",
   "metadata": {},
   "source": [
    "# Usage"
   ]
  },
  {
   "cell_type": "markdown",
   "metadata": {},
   "source": [
    "# Exercise 9 case"
   ]
  },
  {
   "cell_type": "markdown",
   "metadata": {},
   "source": [
    "<img src=\"images/naive_data.png\"/>"
   ]
  },
  {
   "cell_type": "code",
   "execution_count": 138,
   "metadata": {},
   "outputs": [],
   "source": [
    "\n",
    "Cols = [\"Outlook\",\"Temp\",\"Humidity\",\"Windy\", \"Play\"]\n",
    "Records = np.array([\n",
    "    [\"sunny\",85,85,\"false\",\"No\"],\n",
    "    [\"sunny\",80,90,\"true\",\"No\"],\n",
    "    [\"overcast\",83,78,\"false\",\"Yes\"],\n",
    "    [\"rain\",70,96,\"false\",\"Yes\"],\n",
    "    [\"rain\",68,80,\"false\",\"Yes\"],\n",
    "    [\"rain\",65,70,\"true\",\"No\"],\n",
    "    [\"overcast\",64,65,\"true\",\"Yes\"],\n",
    "    [\"sunny\",72,95,\"false\",\"No\"],\n",
    "    [\"sunny\",69,70,\"false\",\"Yes\"],\n",
    "    [\"rain\",75,80,\"false\",\"Yes\"],\n",
    "    [\"sunny\",75,70,\"true\",\"Yes\"],\n",
    "    [\"overcast\",72,90,\"true\",\"Yes\"],\n",
    "    [\"overcast\",81,75,\"false\",\"Yes\"],\n",
    "    [\"rain\",71,80,\"true\",\"No\"],\n",
    "])\n",
    "\n",
    "\n",
    "\n",
    "\n",
    "\n",
    "\n"
   ]
  },
  {
   "cell_type": "markdown",
   "metadata": {},
   "source": [
    "<img src=\"images/naive_a.png\"/>"
   ]
  },
  {
   "cell_type": "code",
   "execution_count": 139,
   "metadata": {},
   "outputs": [
    {
     "name": "stdout",
     "output_type": "stream",
     "text": [
      "P(Yes|X)=0.0164609053\n",
      "P(No|X)=0.0154285714\n",
      "{'No': {\"Humidity<=['<=', 75]\": '1/5=0.2',\n",
      "        'No': '5/14=0.357',\n",
      "        'Outlook=sunny': '3/5=0.6',\n",
      "        \"Temp<=['<=', 75]\": '3/5=0.6',\n",
      "        'Windy=true': '3/5=0.6'},\n",
      " 'Yes': {\"Humidity<=['<=', 75]\": '4/9=0.444',\n",
      "         'Outlook=sunny': '2/9=0.222',\n",
      "         \"Temp<=['<=', 75]\": '7/9=0.778',\n",
      "         'Windy=true': '3/9=0.333',\n",
      "         'Yes': '9/14=0.643'}}\n"
     ]
    }
   ],
   "source": [
    "#if there is comparison, put data as list.\n",
    "# first value will be comparator, second value will be value\n",
    "X = {\"Outlook\":\"sunny\", \"Temp\":[\"<=\",75],\"Humidity\":[\"<=\",75],\"Windy\":\"true\"}\n",
    "naive_bayes_classifier(Cols,Records,X)\n",
    "\n"
   ]
  },
  {
   "cell_type": "markdown",
   "metadata": {},
   "source": [
    "# Using gaussian distribution for cont. value"
   ]
  },
  {
   "cell_type": "markdown",
   "metadata": {},
   "source": [
    "<img src=\"images/naive_b_1.png\"/>\n",
    "<img src=\"images/naive_b.png\"/>\n"
   ]
  },
  {
   "cell_type": "code",
   "execution_count": 140,
   "metadata": {},
   "outputs": [
    {
     "name": "stdout",
     "output_type": "stream",
     "text": [
      "P(Yes|X)=1.3917e-05\n",
      "P(No|X)=2.87094e-05\n",
      "{'No': {'(G)Humidity==[90]': '0.03414505690305279',\n",
      "        '(G)Temp==[87]': '0.014714113576551122',\n",
      "        'No': '5/14=0.357',\n",
      "        'Outlook=rain': '2/5=0.4',\n",
      "        'Windy=false': '2/5=0.4'},\n",
      " 'Yes': {'(G)Humidity==[90]': '0.01984487712891705',\n",
      "         '(G)Temp==[87]': '0.004909029662316159',\n",
      "         'Outlook=rain': '3/9=0.333',\n",
      "         'Windy=false': '6/9=0.667',\n",
      "         'Yes': '9/14=0.643'}}\n"
     ]
    }
   ],
   "source": [
    "#for using Gaussian distribution, just put value\n",
    "X = {\"Outlook\":\"rain\", \"Temp\":[87],\"Humidity\":[90],\"Windy\":\"false\"}\n",
    "naive_bayes_classifier(Cols,Records,X,isGaussian=True)"
   ]
  },
  {
   "cell_type": "markdown",
   "metadata": {},
   "source": [
    "# Using Laplace smoothing for cat. value"
   ]
  },
  {
   "cell_type": "markdown",
   "metadata": {},
   "source": [
    "<img src=\"images/naive_c.png\"/>"
   ]
  },
  {
   "cell_type": "code",
   "execution_count": 141,
   "metadata": {},
   "outputs": [
    {
     "name": "stdout",
     "output_type": "stream",
     "text": [
      "P(Yes|X)=0.0011790355\n",
      "P(No|X)=0.0008239301\n",
      "{'No': {'(G)Humidity==[90]': '0.03414505690305279',\n",
      "        '(G)Temp==[87]': '0.014714113576551122',\n",
      "        'No': '5/14=0.357',\n",
      "        'Outlook=rain': '3/7=0.429',\n",
      "        'Windy=false': '3/7=0.429'},\n",
      " 'Yes': {'(G)Humidity==[90]': '0.01984487712891705',\n",
      "         '(G)Temp==[87]': '0.004909029662316159',\n",
      "         'Outlook=rain': '4/11=0.364',\n",
      "         'Windy=false': '7/11=0.636',\n",
      "         'Yes': '9/14=0.643'}}\n"
     ]
    }
   ],
   "source": [
    "\n",
    "#for using Gaussian distribution, just put value\n",
    "X = {\"Outlook\":\"rain\", \"Temp\":[87],\"Humidity\":[90],\"Windy\":\"false\"}\n",
    "naive_bayes_classifier(Cols,Records,X,isGaussian=True,isLaplace=True)"
   ]
  },
  {
   "cell_type": "markdown",
   "metadata": {},
   "source": [
    "# Lecture Slide Case"
   ]
  },
  {
   "cell_type": "markdown",
   "metadata": {},
   "source": [
    "<img src=\"images/naive_d.png\"/>"
   ]
  },
  {
   "attachments": {},
   "cell_type": "markdown",
   "metadata": {},
   "source": [
    "<img src=\"images/naive_data_b.png\"/>"
   ]
  },
  {
   "cell_type": "code",
   "execution_count": 142,
   "metadata": {},
   "outputs": [
    {
     "name": "stdout",
     "output_type": "stream",
     "text": [
      "P(Yes|X)=0.0\n",
      "P(No|X)=0.0016439532\n",
      "{'No': {'(G)TaxableIncome==[120]': '0.007192295359419549',\n",
      "        'MartialStatus=Married': '4/7=0.571',\n",
      "        'No': '7/10=0.7',\n",
      "        'Refund=No': '4/7=0.571'},\n",
      " 'Yes': {'(G)TaxableIncome==[120]': '1.2151765699646572e-09',\n",
      "         'MartialStatus=Married': '0/3=0.0',\n",
      "         'Refund=No': '3/3=1.0',\n",
      "         'Yes': '3/10=0.3'}}\n",
      "P(Yes|X)=2e-10\n",
      "P(No|X)=0.0850910697\n",
      "{'No': {'(G)TaxableIncome==[120]': '0.007192295359419549',\n",
      "        'MartialStatus=Married': '5/9=0.556',\n",
      "        'No': '7/10=0.7',\n",
      "        'Refund=No': '5/9=0.556'},\n",
      " 'Yes': {'(G)TaxableIncome==[120]': '1.2151765699646572e-09',\n",
      "         'MartialStatus=Married': '1/5=0.2',\n",
      "         'Refund=No': '4/5=0.8',\n",
      "         'Yes': '3/10=0.3'}}\n"
     ]
    }
   ],
   "source": [
    "\n",
    "Cols = [\"Refund\",\"MartialStatus\",\"TaxableIncome\",\"Class\"]\n",
    "Records = np.array([\n",
    "    [\"Yes\",\"Single\",125,\"No\"],\n",
    "    [\"No\",\"Married\",100,\"No\"],\n",
    "    [\"No\",\"Single\",70,\"No\"],\n",
    "    [\"Yes\",\"Married\",120,\"No\"],\n",
    "    [\"No\",\"Divorced\",95,\"Yes\"],\n",
    "    [\"No\",\"Married\",60,\"No\"],\n",
    "    [\"Yes\",\"Divorced\",220,\"No\"],\n",
    "    [\"No\",\"Single\",85,\"Yes\"],\n",
    "    [\"No\",\"Married\",75,\"No\"],\n",
    "    [\"No\",\"Single\",90,\"Yes\"],\n",
    "])\n",
    "\n",
    "\n",
    "X = {\"Refund\":\"No\", \"MartialStatus\":\"Married\",\"TaxableIncome\":[120]}\n",
    "naive_bayes_classifier(Cols,Records,X,isGaussian=True)\n",
    "\n",
    "#with laplace smoothing\n",
    "X = {\"Refund\":\"No\", \"MartialStatus\":\"Married\",\"TaxableIncome\":[120]}\n",
    "naive_bayes_classifier(Cols,Records,X,isGaussian=True,isLaplace=True)"
   ]
  },
  {
   "cell_type": "code",
   "execution_count": null,
   "metadata": {},
   "outputs": [],
   "source": []
  },
  {
   "cell_type": "code",
   "execution_count": null,
   "metadata": {},
   "outputs": [],
   "source": []
  },
  {
   "cell_type": "code",
   "execution_count": null,
   "metadata": {
    "collapsed": true
   },
   "outputs": [],
   "source": []
  }
 ],
 "metadata": {
  "kernelspec": {
   "display_name": "Python 3",
   "language": "python",
   "name": "python3"
  },
  "language_info": {
   "codemirror_mode": {
    "name": "ipython",
    "version": 3
   },
   "file_extension": ".py",
   "mimetype": "text/x-python",
   "name": "python",
   "nbconvert_exporter": "python",
   "pygments_lexer": "ipython3",
   "version": "3.6.3"
  }
 },
 "nbformat": 4,
 "nbformat_minor": 2
}
