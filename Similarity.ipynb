{
 "cells": [
  {
   "cell_type": "markdown",
   "metadata": {},
   "source": [
    "# Similarity"
   ]
  },
  {
   "cell_type": "code",
   "execution_count": 1,
   "metadata": {
    "collapsed": true
   },
   "outputs": [],
   "source": [
    "import numpy as np"
   ]
  },
  {
   "cell_type": "code",
   "execution_count": 2,
   "metadata": {},
   "outputs": [],
   "source": [
    "def SimpleMatchingCoefficient(a,b):\n",
    "    f00,f01,f10,f11=0,0,0,0\n",
    "    for i in range(len(a)):\n",
    "        if a[i] and b[i] :\n",
    "            f11+=1\n",
    "        elif not a[i] and b[i] :\n",
    "            f01+=1\n",
    "        elif a[i] and not b[i] :\n",
    "            f10+=1\n",
    "        elif not a[i] and not b[i] :\n",
    "            f00+=1\n",
    "    return (f11+f00)/(f00+f01+f10+f11)\n",
    "def JaccardCoefficient(a,b):\n",
    "    f00,f01,f10,f11=0,0,0,0\n",
    "    for i in range(len(a)):\n",
    "        if a[i] and b[i] :\n",
    "            f11+=1\n",
    "        elif not a[i] and b[i] :\n",
    "            f01+=1\n",
    "        elif a[i] and not b[i] :\n",
    "            f10+=1\n",
    "        elif not a[i] and not b[i] :\n",
    "            f00+=1\n",
    "    return (f11)/(f01+f10+f11)\n",
    "\n",
    "def CosineSimilarity(x,y):\n",
    "    return np.sum(x*y)/(np.sqrt(np.sum(np.power(x,2)))*np.sqrt(np.sum(np.power(y,2))))"
   ]
  },
  {
   "cell_type": "markdown",
   "metadata": {},
   "source": [
    "# Usage"
   ]
  },
  {
   "cell_type": "markdown",
   "metadata": {},
   "source": [
    "# Example from the lecture"
   ]
  },
  {
   "cell_type": "markdown",
   "metadata": {},
   "source": [
    "<img src=\"images/SMC_VS_JACCARD.png\"/>"
   ]
  },
  {
   "cell_type": "code",
   "execution_count": 3,
   "metadata": {},
   "outputs": [
    {
     "name": "stdout",
     "output_type": "stream",
     "text": [
      "\n",
      "SimpleMatchingCoefficient\n",
      "0.7\n",
      "\n",
      "JaccardCoefficient\n",
      "0.0\n"
     ]
    }
   ],
   "source": [
    "p=[1,0,0,0,0,0,0,0,0,0]\n",
    "q=[0,0,0,0,0,0,1,0,0,1]\n",
    "\n",
    "print(\"\\nSimpleMatchingCoefficient\")\n",
    "print(SimpleMatchingCoefficient(p,q))\n",
    "\n",
    "print(\"\\nJaccardCoefficient\")\n",
    "print(JaccardCoefficient(p,q))"
   ]
  },
  {
   "attachments": {},
   "cell_type": "markdown",
   "metadata": {},
   "source": [
    "<img src=\"images/COSINE.png\"/>"
   ]
  },
  {
   "cell_type": "code",
   "execution_count": 4,
   "metadata": {},
   "outputs": [
    {
     "name": "stdout",
     "output_type": "stream",
     "text": [
      "\n",
      "CosineSimilarity\n",
      "0.460566186472\n"
     ]
    }
   ],
   "source": [
    "x = np.array([1,0,1,0,3])\n",
    "y = np.array([0,2,4,0,1])\n",
    "\n",
    "print(\"\\nCosineSimilarity\")\n",
    "print(CosineSimilarity(x,y))"
   ]
  },
  {
   "cell_type": "markdown",
   "metadata": {},
   "source": [
    "# Example from the exercise lecture 4"
   ]
  },
  {
   "cell_type": "markdown",
   "metadata": {},
   "source": [
    "<img src=\"images/similarity.png\" />"
   ]
  },
  {
   "cell_type": "code",
   "execution_count": 5,
   "metadata": {},
   "outputs": [
    {
     "name": "stdout",
     "output_type": "stream",
     "text": [
      "Jaccard Coefficient\n",
      "0.2\n",
      "0.3333333333333333\n",
      "1.0\n",
      "\n",
      "Cosine Similarity\n",
      "0.22360679775\n",
      "0.316227766017\n",
      "1.0\n"
     ]
    }
   ],
   "source": [
    "a = np.array([1,2,0,0,0,0])\n",
    "b = np.array([1,0,1,1,1,0])\n",
    "c = np.array([3,0,0,0,0,3])\n",
    "d = np.array([2,4,0,0,0,0])\n",
    "\n",
    "print(\"Jaccard Coefficient\")\n",
    "print(JaccardCoefficient(a,b))\n",
    "print(JaccardCoefficient(a,c))\n",
    "print(JaccardCoefficient(a,d))\n",
    "\n",
    "print(\"\\nCosine Similarity\")\n",
    "print(CosineSimilarity(a,b))\n",
    "print(CosineSimilarity(a,c))\n",
    "print(CosineSimilarity(a,d))"
   ]
  },
  {
   "cell_type": "markdown",
   "metadata": {},
   "source": [
    "<img src=\"images/sim_sol.png\" />"
   ]
  }
 ],
 "metadata": {
  "kernelspec": {
   "display_name": "Python 3",
   "language": "python",
   "name": "python3"
  },
  "language_info": {
   "codemirror_mode": {
    "name": "ipython",
    "version": 3
   },
   "file_extension": ".py",
   "mimetype": "text/x-python",
   "name": "python",
   "nbconvert_exporter": "python",
   "pygments_lexer": "ipython3",
   "version": "3.6.3"
  }
 },
 "nbformat": 4,
 "nbformat_minor": 2
}
