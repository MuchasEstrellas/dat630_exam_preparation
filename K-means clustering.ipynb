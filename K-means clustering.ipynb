{
 "cells": [
  {
   "cell_type": "markdown",
   "metadata": {},
   "source": [
    "# K-means clustering"
   ]
  },
  {
   "cell_type": "code",
   "execution_count": 1,
   "metadata": {
    "collapsed": true
   },
   "outputs": [],
   "source": [
    "import math\n",
    "import numpy as np"
   ]
  },
  {
   "cell_type": "code",
   "execution_count": 2,
   "metadata": {},
   "outputs": [],
   "source": [
    "\n",
    "def euclidean_distance(x, y):\n",
    "\n",
    "    return np.sqrt(np.sum(np.power(x-y,2)))\n",
    "\n",
    "\n",
    "def centroid():\n",
    "    print(\"hello\")\n",
    "    \n",
    "def print_tables(i, mtx, points):\n",
    "    print(\"ITERATION: \"+str(i+1))\n",
    "    print(\"\\nCentroids\")\n",
    "    print(list(np.round(points,1)))\n",
    "    print(\"\\nTABLE\")\n",
    "    print(np.round(mtx,1))\n",
    "    print(\"\\nMin Value\")\n",
    "    print(mtx.min(axis=1))\n",
    "    print(\"\\nIndex of Min Points \")\n",
    "    print(mtx.argmin(axis=1))\n",
    "    print(\"\\n======================\\n\")\n",
    "\n",
    "def calc_centroid(d_set, mtx):\n",
    "    points = [np.zeros((0,d_set.shape[1]))]*d_set.shape[1]\n",
    "    for i,j in enumerate(mtx.argmin(axis=1)):\n",
    "        points[j] = np.vstack((points[j], d_set[i]))\n",
    "    centriods = np.zeros((d_set.shape[1],d_set.shape[1]))\n",
    "    for i, point in enumerate(points) :\n",
    "        centriods[i]=(point.mean(axis=0))\n",
    "    return np.round(centriods,1)\n",
    "            \n",
    "        \n",
    "def K_means(NumberOfIteration, dataset, initial_points):\n",
    "    points = initial_points\n",
    "    for i in range(NumberOfIteration):\n",
    "        distance_to_centroid = np.zeros((len(dataset), len(points)))\n",
    "        for j, point in enumerate(points) :\n",
    "            for k, data in enumerate(dataset):\n",
    "                distance_to_centroid[k][j]= round(euclidean_distance(point,data),3)\n",
    "        print_tables(i, distance_to_centroid, points)\n",
    "        \n",
    "        points = calc_centroid(dataset,distance_to_centroid)"
   ]
  },
  {
   "cell_type": "markdown",
   "metadata": {},
   "source": [
    "# Usage"
   ]
  },
  {
   "cell_type": "markdown",
   "metadata": {},
   "source": [
    "# Exercise 10 clustering"
   ]
  },
  {
   "attachments": {},
   "cell_type": "markdown",
   "metadata": {},
   "source": [
    "<img src=\"images/knn1.png\"/>"
   ]
  },
  {
   "cell_type": "markdown",
   "metadata": {},
   "source": [
    "<img src=\"images/knn2.png\"/>"
   ]
  },
  {
   "cell_type": "code",
   "execution_count": 3,
   "metadata": {},
   "outputs": [
    {
     "name": "stdout",
     "output_type": "stream",
     "text": [
      "ITERATION: 1\n",
      "\n",
      "Centroids\n",
      "[array([ 1.,  1.]), array([ 5.,  7.])]\n",
      "\n",
      "TABLE\n",
      "[[ 0.   7.2]\n",
      " [ 1.1  6.1]\n",
      " [ 3.6  3.6]\n",
      " [ 7.2  0. ]\n",
      " [ 4.7  2.5]\n",
      " [ 5.3  2.1]\n",
      " [ 4.3  2.9]]\n",
      "\n",
      "Min Value\n",
      "[ 0.     1.118  3.606  0.     2.5    2.062  2.915]\n",
      "\n",
      "Index of Min Points \n",
      "[0 0 0 1 1 1 1]\n",
      "\n",
      "======================\n",
      "\n",
      "ITERATION: 2\n",
      "\n",
      "Centroids\n",
      "[array([ 1.8,  2.3]), array([ 4.1,  5.4])]\n",
      "\n",
      "TABLE\n",
      "[[ 1.5  5.4]\n",
      " [ 0.4  4.3]\n",
      " [ 2.1  1.8]\n",
      " [ 5.7  1.8]\n",
      " [ 3.2  0.7]\n",
      " [ 3.8  0.6]\n",
      " [ 2.8  1.1]]\n",
      "\n",
      "Min Value\n",
      "[ 1.526  0.424  1.78   1.836  0.721  0.566  1.082]\n",
      "\n",
      "Index of Min Points \n",
      "[0 0 1 1 1 1 1]\n",
      "\n",
      "======================\n",
      "\n"
     ]
    }
   ],
   "source": [
    "#total number of iteration\n",
    "\n",
    "NumberOfIteration = 2\n",
    "#data set\n",
    "dataset = np.matrix([\n",
    "    [1.0,1.0],\n",
    "    [1.5,2.0],\n",
    "    [3.0,4.0],\n",
    "    [5.0,7.0],\n",
    "    [3.5,5.0],\n",
    "    [4.5,5.0],\n",
    "    [3.5,4.5],\n",
    "])\n",
    "#initial points\n",
    "points = np.matrix([[1.0, 1.0], [5.0, 7.0]])\n",
    "\n",
    "\n",
    "K_means(NumberOfIteration, dataset,points)"
   ]
  },
  {
   "cell_type": "code",
   "execution_count": null,
   "metadata": {
    "collapsed": true
   },
   "outputs": [],
   "source": []
  }
 ],
 "metadata": {
  "kernelspec": {
   "display_name": "Python 3",
   "language": "python",
   "name": "python3"
  },
  "language_info": {
   "codemirror_mode": {
    "name": "ipython",
    "version": 3
   },
   "file_extension": ".py",
   "mimetype": "text/x-python",
   "name": "python",
   "nbconvert_exporter": "python",
   "pygments_lexer": "ipython3",
   "version": "3.6.3"
  }
 },
 "nbformat": 4,
 "nbformat_minor": 2
}
